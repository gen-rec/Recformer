{
 "cells": [
  {
   "cell_type": "code",
   "execution_count": 1,
   "outputs": [],
   "source": [
    "data_map = {\n",
    "    'Industrial_and_Scientific.json.gz': 'Scientific',\n",
    "    'Musical_Instruments.json.gz': 'Instruments',\n",
    "    'Prime_Pantry.json.gz': 'Pantry',\n",
    "}\n",
    "class Namespace:\n",
    "    def __init__(self, **kwargs):\n",
    "        self.__dict__.update(kwargs)\n",
    "\n",
    "args = Namespace(\n",
    "    train_file = \"train.json\",\n",
    "    dev_file = \"val.json\",\n",
    "    test_file = \"test.json\",\n",
    "    item2id_file = \"smap.json\",\n",
    "    meta_file = \"meta_data.json\",\n",
    ")"
   ],
   "metadata": {
    "collapsed": false,
    "ExecuteTime": {
     "end_time": "2023-10-09T17:37:29.608756100Z",
     "start_time": "2023-10-09T17:37:29.559730900Z"
    }
   },
   "id": "5044fc26449f6bec"
  },
  {
   "cell_type": "code",
   "execution_count": 2,
   "id": "initial_id",
   "metadata": {
    "collapsed": true,
    "ExecuteTime": {
     "end_time": "2023-10-09T17:37:29.608756100Z",
     "start_time": "2023-10-09T17:37:29.572702200Z"
    }
   },
   "outputs": [],
   "source": [
    "import json\n",
    "from tqdm import tqdm\n",
    "import gzip\n",
    "from pathlib import Path\n",
    "\n",
    "data_name = \"Prime_Pantry.json.gz\"\n",
    "args.data_path =f\"finetune_data/{data_map[data_name]}_ours\""
   ]
  },
  {
   "cell_type": "code",
   "execution_count": 3,
   "outputs": [
    {
     "data": {
      "text/plain": "4968"
     },
     "execution_count": 3,
     "metadata": {},
     "output_type": "execute_result"
    }
   ],
   "source": [
    "from utils import load_data\n",
    "train, val, test, item_meta_dict, item2id, id2item = load_data(args)\n",
    "len(item_meta_dict)"
   ],
   "metadata": {
    "collapsed": false,
    "ExecuteTime": {
     "end_time": "2023-10-09T17:37:30.889543700Z",
     "start_time": "2023-10-09T17:37:29.590754500Z"
    }
   },
   "id": "ae34730adb80001b"
  },
  {
   "cell_type": "code",
   "execution_count": 4,
   "outputs": [
    {
     "data": {
      "text/plain": "14180"
     },
     "execution_count": 4,
     "metadata": {},
     "output_type": "execute_result"
    }
   ],
   "source": [
    "import os\n",
    "umap = json.load(open(os.path.join(args.data_path, \"umap.json\")))\n",
    "len(umap)"
   ],
   "metadata": {
    "collapsed": false,
    "ExecuteTime": {
     "end_time": "2023-10-09T17:37:30.921435400Z",
     "start_time": "2023-10-09T17:37:30.889543700Z"
    }
   },
   "id": "ca090068c865b001"
  },
  {
   "cell_type": "code",
   "execution_count": 5,
   "outputs": [
    {
     "name": "stderr",
     "output_type": "stream",
     "text": [
      "100%|██████████| 14180/14180 [00:00<00:00, 841126.74it/s]\n",
      "100%|██████████| 14178/14178 [00:00<?, ?it/s]\n"
     ]
    },
    {
     "data": {
      "text/plain": "(4961, 3977, 4968)"
     },
     "execution_count": 5,
     "metadata": {},
     "output_type": "execute_result"
    }
   ],
   "source": [
    "train_item = set()\n",
    "\n",
    "for train_session in tqdm(train.values()):\n",
    "    for item in train_session:\n",
    "        train_item.add(id2item[item])\n",
    "\n",
    "val_item = set()\n",
    "for val_session in tqdm(val.values()):\n",
    "    for item in val_session:\n",
    "        val_item.add(id2item[item])\n",
    "\n",
    "len(train_item), len(val_item), len(id2item)"
   ],
   "metadata": {
    "collapsed": false,
    "ExecuteTime": {
     "end_time": "2023-10-09T17:37:30.939696200Z",
     "start_time": "2023-10-09T17:37:30.905824400Z"
    }
   },
   "id": "68fed03c1c435c70"
  },
  {
   "cell_type": "code",
   "execution_count": 6,
   "outputs": [
    {
     "data": {
      "text/plain": "4968"
     },
     "execution_count": 6,
     "metadata": {},
     "output_type": "execute_result"
    }
   ],
   "source": [
    "train_val_item = set.union(train_item, val_item)\n",
    "len(train_val_item)"
   ],
   "metadata": {
    "collapsed": false,
    "ExecuteTime": {
     "end_time": "2023-10-09T17:37:30.972433100Z",
     "start_time": "2023-10-09T17:37:30.939696200Z"
    }
   },
   "id": "6517811ca39f2af0"
  },
  {
   "cell_type": "markdown",
   "source": [
    "# raw"
   ],
   "metadata": {
    "collapsed": false
   },
   "id": "e7f850f15917cd37"
  },
  {
   "cell_type": "code",
   "execution_count": 7,
   "outputs": [],
   "source": [
    "def extract_meta_data(path):\n",
    "    meta_data = dict()\n",
    "    with gzip.open(path, \"rt\") as f:\n",
    "        for line in tqdm(f):\n",
    "            line = json.loads(line)\n",
    "            attr_dict = dict()\n",
    "            title = line[\"title\"]\n",
    "\n",
    "            if len(title) != 0:\n",
    "                asin = line[\"asin\"]\n",
    "                attr_dict[\"title\"] = title\n",
    "                attr_dict[\"brand\"] = line[\"brand\"]\n",
    "                attr_dict[\"category\"] = \" \".join(line[\"category\"])\n",
    "                \n",
    "                meta_data[asin] = attr_dict\n",
    "\n",
    "    return meta_data"
   ],
   "metadata": {
    "collapsed": false,
    "ExecuteTime": {
     "end_time": "2023-10-09T17:37:30.972433100Z",
     "start_time": "2023-10-09T17:37:30.955729400Z"
    }
   },
   "id": "1f3989812ef27842"
  },
  {
   "cell_type": "code",
   "execution_count": 8,
   "outputs": [
    {
     "name": "stderr",
     "output_type": "stream",
     "text": [
      "10813it [00:00, 54061.89it/s]\n"
     ]
    },
    {
     "data": {
      "text/plain": "10812"
     },
     "execution_count": 8,
     "metadata": {},
     "output_type": "execute_result"
    }
   ],
   "source": [
    "raw_meta_dict = extract_meta_data(Path('data') / Path(f\"meta_{data_name}\"))\n",
    "len(raw_meta_dict)"
   ],
   "metadata": {
    "collapsed": false,
    "ExecuteTime": {
     "end_time": "2023-10-09T17:37:31.191207Z",
     "start_time": "2023-10-09T17:37:30.972433100Z"
    }
   },
   "id": "5933debcd55e4386"
  },
  {
   "cell_type": "code",
   "execution_count": 9,
   "outputs": [
    {
     "name": "stderr",
     "output_type": "stream",
     "text": [
      "471614it [00:02, 157215.94it/s]\n"
     ]
    },
    {
     "data": {
      "text/plain": "247640"
     },
     "execution_count": 9,
     "metadata": {},
     "output_type": "execute_result"
    }
   ],
   "source": [
    "from collections import defaultdict\n",
    "\n",
    "raw_sequences = defaultdict(list)\n",
    "total = gzip.open(Path('data') / Path(data_name), 'r')\n",
    "\n",
    "for line in tqdm(total, ):\n",
    "    data = json.loads(line)\n",
    "    user = data['reviewerID']\n",
    "    item = data['asin']\n",
    "    time = data['unixReviewTime']\n",
    "    \n",
    "    if data['asin'] not in raw_meta_dict.keys():\n",
    "        continue\n",
    "    else:\n",
    "        raw_sequences[user].append((item, time))\n",
    "\n",
    "len(raw_sequences)"
   ],
   "metadata": {
    "collapsed": false,
    "ExecuteTime": {
     "end_time": "2023-10-09T17:37:34.257192Z",
     "start_time": "2023-10-09T17:37:31.191207Z"
    }
   },
   "id": "f0c32d7e9cae685f"
  },
  {
   "cell_type": "code",
   "execution_count": 10,
   "outputs": [
    {
     "name": "stderr",
     "output_type": "stream",
     "text": [
      "100%|██████████| 247640/247640 [00:00<00:00, 995313.62it/s]\n"
     ]
    },
    {
     "data": {
      "text/plain": "(1904, 247640)"
     },
     "execution_count": 10,
     "metadata": {},
     "output_type": "execute_result"
    }
   ],
   "source": [
    "# history는 seen, target은 unseen\n",
    "\n",
    "new_item_sequences = dict()\n",
    "\n",
    "for user, session in tqdm(raw_sequences.items()):\n",
    "    session = sorted(session, key=lambda x: x[1])\n",
    "    session = [item for item, _ in session]\n",
    "    \n",
    "    if len(session) < 4:\n",
    "        continue\n",
    "        \n",
    "    if session[-1] in item_meta_dict:\n",
    "        continue\n",
    "    \n",
    "    flag = False\n",
    "    for item in session[:-1]:\n",
    "        if item not in train_val_item:\n",
    "            flag = True\n",
    "            break\n",
    "    if flag:\n",
    "        continue\n",
    "    \n",
    "    new_item_sequences[user] = session\n",
    "\n",
    "len(new_item_sequences), len(raw_sequences)\n",
    "    "
   ],
   "metadata": {
    "collapsed": false,
    "ExecuteTime": {
     "end_time": "2023-10-09T17:37:34.523051400Z",
     "start_time": "2023-10-09T17:37:34.225355700Z"
    }
   },
   "id": "68011d2c729f725d"
  },
  {
   "cell_type": "code",
   "execution_count": 11,
   "outputs": [
    {
     "name": "stdout",
     "output_type": "stream",
     "text": [
      "meta dict len before update: 4968\n"
     ]
    },
    {
     "name": "stderr",
     "output_type": "stream",
     "text": [
      "100%|██████████| 1904/1904 [00:00<00:00, 589369.36it/s]"
     ]
    },
    {
     "name": "stdout",
     "output_type": "stream",
     "text": [
      "meta dict len after update: 6505\n"
     ]
    },
    {
     "name": "stderr",
     "output_type": "stream",
     "text": [
      "\n"
     ]
    }
   ],
   "source": [
    "# TODO\n",
    "# 1. update item meta dict\n",
    "# 2. update item2id, id2item\n",
    "# 4. update train, val, test\n",
    "\n",
    "# 1. update item meta dict\n",
    "new_item_meta_dict = item_meta_dict.copy()\n",
    "print(f\"meta dict len before update: {len(new_item_meta_dict)}\")\n",
    "for session in tqdm(new_item_sequences.values()):\n",
    "    for item in session[:-1]:\n",
    "        if item not in item_meta_dict:\n",
    "            raise ValueError(f\"{item} not in meta dict\")\n",
    "    if session[-1] in item_meta_dict:\n",
    "        raise ValueError(f\"{session[-1]} in meta dict\")\n",
    "    new_item_meta_dict[session[-1]] = raw_meta_dict[session[-1]]\n",
    "    \n",
    "print(f\"meta dict len after update: {len(new_item_meta_dict)}\")"
   ],
   "metadata": {
    "collapsed": false,
    "ExecuteTime": {
     "end_time": "2023-10-09T17:37:34.541217800Z",
     "start_time": "2023-10-09T17:37:34.495174Z"
    }
   },
   "id": "c853c7789c0c0505"
  },
  {
   "cell_type": "code",
   "execution_count": 12,
   "outputs": [
    {
     "name": "stdout",
     "output_type": "stream",
     "text": [
      "item2id len before update: 4968\n"
     ]
    },
    {
     "name": "stderr",
     "output_type": "stream",
     "text": [
      "100%|██████████| 1904/1904 [00:00<?, ?it/s]"
     ]
    },
    {
     "name": "stdout",
     "output_type": "stream",
     "text": [
      "item2id len after update: 6505\n"
     ]
    },
    {
     "name": "stderr",
     "output_type": "stream",
     "text": [
      "\n"
     ]
    }
   ],
   "source": [
    "# 2. update item2id, id2item\n",
    "print(f\"item2id len before update: {len(item2id)}\")\n",
    "\n",
    "last_id = len(item2id)\n",
    "for session in tqdm(new_item_sequences.values()):\n",
    "    for item in session:\n",
    "        if item not in item2id.keys():\n",
    "            if last_id not in id2item.keys():\n",
    "                id2item[last_id] = item\n",
    "                item2id[item] = last_id\n",
    "            else:\n",
    "                print(f\"{last_id} already in id2item\")\n",
    "                break\n",
    "            last_id += 1\n",
    "print(f\"item2id len after update: {len(item2id)}\")"
   ],
   "metadata": {
    "collapsed": false,
    "ExecuteTime": {
     "end_time": "2023-10-09T17:37:34.541217800Z",
     "start_time": "2023-10-09T17:37:34.507796400Z"
    }
   },
   "id": "d1771eb3ec84b7cc"
  },
  {
   "cell_type": "code",
   "execution_count": 13,
   "outputs": [
    {
     "name": "stdout",
     "output_type": "stream",
     "text": [
      "umap before update: 14180\n"
     ]
    },
    {
     "name": "stderr",
     "output_type": "stream",
     "text": [
      "100%|██████████| 1904/1904 [00:00<00:00, 11164.73it/s]"
     ]
    },
    {
     "name": "stdout",
     "output_type": "stream",
     "text": [
      "umap after update: 15261\n"
     ]
    },
    {
     "name": "stderr",
     "output_type": "stream",
     "text": [
      "\n"
     ]
    }
   ],
   "source": [
    "# 2.5 update umap\n",
    "print(f\"umap before update: {len(umap)}\")\n",
    "new_umap = umap.copy()\n",
    "last_id = len(umap)\n",
    "for user in tqdm(new_item_sequences):\n",
    "    if user not in umap.keys():\n",
    "        assert last_id not in umap.values()\n",
    "        new_umap[user] = last_id\n",
    "        last_id += 1\n",
    "print(f\"umap after update: {len(new_umap)}\")\n",
    "        "
   ],
   "metadata": {
    "collapsed": false,
    "ExecuteTime": {
     "end_time": "2023-10-09T17:37:34.698464900Z",
     "start_time": "2023-10-09T17:37:34.524406900Z"
    }
   },
   "id": "41db82bbeb0bd4d9"
  },
  {
   "cell_type": "code",
   "execution_count": 14,
   "outputs": [
    {
     "name": "stderr",
     "output_type": "stream",
     "text": [
      "100%|██████████| 1904/1904 [00:00<00:00, 209974.36it/s]\n"
     ]
    },
    {
     "data": {
      "text/plain": "(1904, 1904, 1904)"
     },
     "execution_count": 14,
     "metadata": {},
     "output_type": "execute_result"
    }
   ],
   "source": [
    "# 3. update train, val, test\n",
    "train_dict = dict()\n",
    "val_dict = dict()\n",
    "test_dict = dict()\n",
    "\n",
    "for user, session in tqdm(new_item_sequences.items()):\n",
    "    user = new_umap[user]\n",
    "    if len(session) < 3:\n",
    "        train_dict[user] = []\n",
    "    else:\n",
    "        train_dict[user] = list(map(lambda x: item2id[x], session[:-2]))\n",
    "    val_dict[user] = [item2id[session[-2]]]\n",
    "    test_dict[user] = [item2id[session[-1]]]\n",
    "\n",
    "len(train_dict), len(val_dict), len(test_dict)"
   ],
   "metadata": {
    "collapsed": false,
    "ExecuteTime": {
     "end_time": "2023-10-09T17:37:34.773968600Z",
     "start_time": "2023-10-09T17:37:34.698464900Z"
    }
   },
   "id": "7040562dfe2f432d"
  },
  {
   "cell_type": "code",
   "execution_count": 15,
   "outputs": [],
   "source": [
    "output_path = Path('cold_data') / Path(f\"{data_map[data_name]}_cold\")\n",
    "if not output_path.exists():\n",
    "    output_path.mkdir(parents=True)\n",
    "\n",
    "train_file = os.path.join(output_path, \"train.json\")\n",
    "dev_file = os.path.join(output_path, \"val.json\")\n",
    "test_file = os.path.join(output_path, \"test.json\")\n",
    "umap_file = os.path.join(output_path, \"umap.json\")\n",
    "smap_file = os.path.join(output_path, \"smap.json\")\n",
    "meta_file = os.path.join(output_path, \"meta_data.json\")"
   ],
   "metadata": {
    "collapsed": false,
    "ExecuteTime": {
     "end_time": "2023-10-09T17:37:34.791075600Z",
     "start_time": "2023-10-09T17:37:34.727245300Z"
    }
   },
   "id": "9e7765147d681405"
  },
  {
   "cell_type": "code",
   "execution_count": 16,
   "outputs": [],
   "source": [
    "json.dump(train_dict, open(train_file, \"w\", encoding='utf-8'), indent=1, ensure_ascii=False)\n",
    "json.dump(val_dict, open(dev_file, \"w\", encoding='utf-8'), indent=1, ensure_ascii=False)\n",
    "json.dump(test_dict, open(test_file, \"w\", encoding='utf-8'), indent=1, ensure_ascii=False)\n",
    "json.dump(new_umap, open(umap_file, \"w\", encoding='utf-8'), indent=1, ensure_ascii=False)\n",
    "json.dump(item2id, open(smap_file, \"w\", encoding='utf-8'), indent=1, ensure_ascii=False)\n",
    "json.dump(new_item_meta_dict, open(meta_file, \"w\", encoding='utf-8'), indent=1, ensure_ascii=False)"
   ],
   "metadata": {
    "collapsed": false,
    "ExecuteTime": {
     "end_time": "2023-10-09T17:37:34.824699400Z",
     "start_time": "2023-10-09T17:37:34.741043800Z"
    }
   },
   "id": "55745f56d0e17247"
  }
 ],
 "metadata": {
  "kernelspec": {
   "display_name": "Python 3",
   "language": "python",
   "name": "python3"
  },
  "language_info": {
   "codemirror_mode": {
    "name": "ipython",
    "version": 2
   },
   "file_extension": ".py",
   "mimetype": "text/x-python",
   "name": "python",
   "nbconvert_exporter": "python",
   "pygments_lexer": "ipython2",
   "version": "2.7.6"
  }
 },
 "nbformat": 4,
 "nbformat_minor": 5
}
