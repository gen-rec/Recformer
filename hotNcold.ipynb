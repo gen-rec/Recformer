{
 "cells": [
  {
   "cell_type": "code",
   "execution_count": 2,
   "id": "initial_id",
   "metadata": {
    "collapsed": true,
    "ExecuteTime": {
     "end_time": "2023-10-07T15:13:36.875542200Z",
     "start_time": "2023-10-07T15:13:36.420393100Z"
    }
   },
   "outputs": [],
   "source": [
    "from utils import load_data\n",
    "import numpy as np\n",
    "import pandas as pd"
   ]
  },
  {
   "cell_type": "code",
   "execution_count": 3,
   "outputs": [],
   "source": [
    "class Namespaces:\n",
    "    def __init__(self, **kwargs):\n",
    "        self.__dict__.update(kwargs)"
   ],
   "metadata": {
    "collapsed": false,
    "ExecuteTime": {
     "end_time": "2023-10-07T15:15:44.904566Z",
     "start_time": "2023-10-07T15:15:44.890568600Z"
    }
   },
   "id": "2660c8655d84e1f8"
  },
  {
   "cell_type": "code",
   "execution_count": 6,
   "outputs": [],
   "source": [
    "args = Namespaces(\n",
    "    data_path = 'finetune_data/Scientific_ours',\n",
    "    train_file = 'train.json',\n",
    "    dev_file = 'val.json',\n",
    "    test_file = 'test.json',\n",
    "    item2id_file = 'smap.json',\n",
    "    meta_file = 'meta_data.json',\n",
    ")"
   ],
   "metadata": {
    "collapsed": false,
    "ExecuteTime": {
     "end_time": "2023-10-07T15:38:51.713568200Z",
     "start_time": "2023-10-07T15:38:51.689429900Z"
    }
   },
   "id": "9d147934563c7832"
  },
  {
   "cell_type": "code",
   "execution_count": 7,
   "outputs": [],
   "source": [
    "train, val, test, item_meta_dict, item2id, id2item = load_data(args)"
   ],
   "metadata": {
    "collapsed": false,
    "ExecuteTime": {
     "end_time": "2023-10-07T15:38:52.516542400Z",
     "start_time": "2023-10-07T15:38:52.198410700Z"
    }
   },
   "id": "953ff3a41f359efe"
  },
  {
   "cell_type": "code",
   "execution_count": null,
   "outputs": [],
   "source": [],
   "metadata": {
    "collapsed": false
   },
   "id": "ed3ed972b736ab89"
  }
 ],
 "metadata": {
  "kernelspec": {
   "display_name": "Python 3",
   "language": "python",
   "name": "python3"
  },
  "language_info": {
   "codemirror_mode": {
    "name": "ipython",
    "version": 2
   },
   "file_extension": ".py",
   "mimetype": "text/x-python",
   "name": "python",
   "nbconvert_exporter": "python",
   "pygments_lexer": "ipython2",
   "version": "2.7.6"
  }
 },
 "nbformat": 4,
 "nbformat_minor": 5
}
