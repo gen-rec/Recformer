{
 "cells": [
  {
   "cell_type": "code",
   "execution_count": 12,
   "outputs": [],
   "source": [
    "import os.path\n",
    "\n",
    "from utils import load_data\n",
    "import numpy as np\n",
    "import random\n"
   ],
   "metadata": {
    "collapsed": false,
    "ExecuteTime": {
     "end_time": "2023-10-09T09:07:08.160292800Z",
     "start_time": "2023-10-09T09:07:08.143141100Z"
    }
   },
   "id": "b253c26a94bf9fc2"
  },
  {
   "cell_type": "code",
   "execution_count": 13,
   "outputs": [],
   "source": [
    "class Namespace():\n",
    "    def __init__(self, **kwargs):\n",
    "        self.__dict__.update(kwargs)"
   ],
   "metadata": {
    "collapsed": false,
    "ExecuteTime": {
     "end_time": "2023-10-09T09:07:08.476593Z",
     "start_time": "2023-10-09T09:07:08.460468900Z"
    }
   },
   "id": "121ac40e325e8666"
  },
  {
   "cell_type": "code",
   "execution_count": 14,
   "outputs": [],
   "source": [
    "args = Namespace(\n",
    "    data_path = \"finetune_data/Pantry_ours\",\n",
    "    train_file = \"train.json\",\n",
    "    dev_file = \"val.json\",\n",
    "    test_file = \"test.json\",\n",
    "    item2id_file = \"smap.json\",\n",
    "    meta_file = \"meta_data.json\",\n",
    ")\n"
   ],
   "metadata": {
    "collapsed": false,
    "ExecuteTime": {
     "end_time": "2023-10-09T09:07:09.127238800Z",
     "start_time": "2023-10-09T09:07:09.110840500Z"
    }
   },
   "id": "21147dda725276c3"
  },
  {
   "cell_type": "code",
   "execution_count": 20,
   "outputs": [
    {
     "name": "stdout",
     "output_type": "stream",
     "text": [
      "Scientific\n",
      "0.01\n",
      "0.05\n",
      "0.1\n",
      "0.25\n",
      "0.5\n",
      "0.75\n",
      "Instruments\n",
      "0.01\n",
      "0.05\n",
      "0.1\n",
      "0.25\n",
      "0.5\n",
      "0.75\n",
      "Pantry\n",
      "0.01\n",
      "0.05\n",
      "0.1\n",
      "0.25\n",
      "0.5\n",
      "0.75\n"
     ]
    }
   ],
   "source": [
    "import json\n",
    "\n",
    "for data in [\"Scientific\", \"Instruments\", \"Pantry\"]:\n",
    "    print(data)\n",
    "    args.data_path = f\"finetune_data/{data}_ours\"\n",
    "    train, val, test, item_meta_dict, item2id, id2item = load_data(args)\n",
    "    seed = 42\n",
    "    random.seed(seed)\n",
    "    for r in [0.01, 0.05, 0.1, 0.25, 0.5, 0.75]:\n",
    "        print(r)\n",
    "        filtered_list = []\n",
    "        for u in train.keys():\n",
    "            if random.random() < r:\n",
    "                filtered_list.append(u)\n",
    "        json.dump(filtered_list, open(f\"finetune_data/{data}_ours/filtered_user_{r}.json\", \"w\"))"
   ],
   "metadata": {
    "collapsed": false,
    "ExecuteTime": {
     "end_time": "2023-10-09T09:10:54.727452Z",
     "start_time": "2023-10-09T09:10:53.911954400Z"
    }
   },
   "id": "2fa9ed88066e2fdb"
  },
  {
   "cell_type": "code",
   "execution_count": null,
   "outputs": [],
   "source": [],
   "metadata": {
    "collapsed": false
   },
   "id": "e38843b40b964cb3"
  }
 ],
 "metadata": {
  "kernelspec": {
   "display_name": "Python 3",
   "language": "python",
   "name": "python3"
  },
  "language_info": {
   "codemirror_mode": {
    "name": "ipython",
    "version": 2
   },
   "file_extension": ".py",
   "mimetype": "text/x-python",
   "name": "python",
   "nbconvert_exporter": "python",
   "pygments_lexer": "ipython2",
   "version": "2.7.6"
  }
 },
 "nbformat": 4,
 "nbformat_minor": 5
}
