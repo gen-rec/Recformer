{
 "cells": [
  {
   "cell_type": "code",
   "execution_count": 6,
   "id": "initial_id",
   "metadata": {
    "collapsed": true,
    "ExecuteTime": {
     "end_time": "2023-09-14T06:20:21.376204700Z",
     "start_time": "2023-09-14T06:20:21.366930300Z"
    }
   },
   "outputs": [],
   "source": [
    "import pandas as pd\n",
    "from tqdm import tqdm\n",
    "import json\n",
    "from collections import defaultdict"
   ]
  },
  {
   "cell_type": "code",
   "execution_count": 7,
   "outputs": [],
   "source": [
    "class LabelField:\n",
    "    def __init__(self):\n",
    "        self.label2id = dict()\n",
    "        self.label_num = 0\n",
    "\n",
    "    def get_id(self, label):\n",
    "\n",
    "        if label in self.label2id:\n",
    "            return self.label2id[label]\n",
    "\n",
    "        self.label2id[label] = self.label_num\n",
    "        self.label_num += 1\n",
    "\n",
    "        return self.label2id[label]"
   ],
   "metadata": {
    "collapsed": false,
    "ExecuteTime": {
     "end_time": "2023-09-14T06:20:21.424437200Z",
     "start_time": "2023-09-14T06:20:21.376204700Z"
    }
   },
   "id": "2d687792b8b2a185"
  },
  {
   "cell_type": "code",
   "execution_count": 7,
   "outputs": [],
   "source": [],
   "metadata": {
    "collapsed": false,
    "ExecuteTime": {
     "end_time": "2023-09-14T06:20:21.424437200Z",
     "start_time": "2023-09-14T06:20:21.392604700Z"
    }
   },
   "id": "90da8a044b955bc4"
  },
  {
   "cell_type": "code",
   "execution_count": 8,
   "outputs": [
    {
     "data": {
      "text/plain": "  InvoiceNo StockCode                          Description  Quantity  \\\n0    536365    85123A   WHITE HANGING HEART T-LIGHT HOLDER         6   \n1    536365     71053                  WHITE METAL LANTERN         6   \n2    536365    84406B       CREAM CUPID HEARTS COAT HANGER         8   \n3    536365    84029G  KNITTED UNION FLAG HOT WATER BOTTLE         6   \n4    536365    84029E       RED WOOLLY HOTTIE WHITE HEART.         6   \n\n      InvoiceDate  UnitPrice  CustomerID         Country  \n0  12/1/2010 8:26       2.55     17850.0  United Kingdom  \n1  12/1/2010 8:26       3.39     17850.0  United Kingdom  \n2  12/1/2010 8:26       2.75     17850.0  United Kingdom  \n3  12/1/2010 8:26       3.39     17850.0  United Kingdom  \n4  12/1/2010 8:26       3.39     17850.0  United Kingdom  ",
      "text/html": "<div>\n<style scoped>\n    .dataframe tbody tr th:only-of-type {\n        vertical-align: middle;\n    }\n\n    .dataframe tbody tr th {\n        vertical-align: top;\n    }\n\n    .dataframe thead th {\n        text-align: right;\n    }\n</style>\n<table border=\"1\" class=\"dataframe\">\n  <thead>\n    <tr style=\"text-align: right;\">\n      <th></th>\n      <th>InvoiceNo</th>\n      <th>StockCode</th>\n      <th>Description</th>\n      <th>Quantity</th>\n      <th>InvoiceDate</th>\n      <th>UnitPrice</th>\n      <th>CustomerID</th>\n      <th>Country</th>\n    </tr>\n  </thead>\n  <tbody>\n    <tr>\n      <th>0</th>\n      <td>536365</td>\n      <td>85123A</td>\n      <td>WHITE HANGING HEART T-LIGHT HOLDER</td>\n      <td>6</td>\n      <td>12/1/2010 8:26</td>\n      <td>2.55</td>\n      <td>17850.0</td>\n      <td>United Kingdom</td>\n    </tr>\n    <tr>\n      <th>1</th>\n      <td>536365</td>\n      <td>71053</td>\n      <td>WHITE METAL LANTERN</td>\n      <td>6</td>\n      <td>12/1/2010 8:26</td>\n      <td>3.39</td>\n      <td>17850.0</td>\n      <td>United Kingdom</td>\n    </tr>\n    <tr>\n      <th>2</th>\n      <td>536365</td>\n      <td>84406B</td>\n      <td>CREAM CUPID HEARTS COAT HANGER</td>\n      <td>8</td>\n      <td>12/1/2010 8:26</td>\n      <td>2.75</td>\n      <td>17850.0</td>\n      <td>United Kingdom</td>\n    </tr>\n    <tr>\n      <th>3</th>\n      <td>536365</td>\n      <td>84029G</td>\n      <td>KNITTED UNION FLAG HOT WATER BOTTLE</td>\n      <td>6</td>\n      <td>12/1/2010 8:26</td>\n      <td>3.39</td>\n      <td>17850.0</td>\n      <td>United Kingdom</td>\n    </tr>\n    <tr>\n      <th>4</th>\n      <td>536365</td>\n      <td>84029E</td>\n      <td>RED WOOLLY HOTTIE WHITE HEART.</td>\n      <td>6</td>\n      <td>12/1/2010 8:26</td>\n      <td>3.39</td>\n      <td>17850.0</td>\n      <td>United Kingdom</td>\n    </tr>\n  </tbody>\n</table>\n</div>"
     },
     "execution_count": 8,
     "metadata": {},
     "output_type": "execute_result"
    }
   ],
   "source": [
    "\n",
    "data = pd.read_csv('../data/online_retail/data.csv', encoding='ISO-8859-1')\n",
    "data.head()"
   ],
   "metadata": {
    "collapsed": false,
    "ExecuteTime": {
     "end_time": "2023-09-14T06:20:21.825264400Z",
     "start_time": "2023-09-14T06:20:21.410503300Z"
    }
   },
   "id": "86751fcb8c2befde"
  },
  {
   "cell_type": "code",
   "execution_count": 9,
   "outputs": [
    {
     "data": {
      "text/plain": "25900"
     },
     "execution_count": 9,
     "metadata": {},
     "output_type": "execute_result"
    }
   ],
   "source": [
    "data['InvoiceNo'].nunique()"
   ],
   "metadata": {
    "collapsed": false,
    "ExecuteTime": {
     "end_time": "2023-09-14T06:20:21.876430700Z",
     "start_time": "2023-09-14T06:20:21.825264400Z"
    }
   },
   "id": "2a4d9b47d756f732"
  },
  {
   "cell_type": "code",
   "execution_count": 10,
   "outputs": [
    {
     "data": {
      "text/plain": "  InvoiceNo StockCode                          Description  Quantity  \\\n0    536365    85123A   WHITE HANGING HEART T-LIGHT HOLDER         6   \n1    536365     71053                  WHITE METAL LANTERN         6   \n2    536365    84406B       CREAM CUPID HEARTS COAT HANGER         8   \n3    536365    84029G  KNITTED UNION FLAG HOT WATER BOTTLE         6   \n4    536365    84029E       RED WOOLLY HOTTIE WHITE HEART.         6   \n\n    InvoiceDate  UnitPrice  CustomerID         Country  \n0  1.291192e+09       2.55     17850.0  United Kingdom  \n1  1.291192e+09       3.39     17850.0  United Kingdom  \n2  1.291192e+09       2.75     17850.0  United Kingdom  \n3  1.291192e+09       3.39     17850.0  United Kingdom  \n4  1.291192e+09       3.39     17850.0  United Kingdom  ",
      "text/html": "<div>\n<style scoped>\n    .dataframe tbody tr th:only-of-type {\n        vertical-align: middle;\n    }\n\n    .dataframe tbody tr th {\n        vertical-align: top;\n    }\n\n    .dataframe thead th {\n        text-align: right;\n    }\n</style>\n<table border=\"1\" class=\"dataframe\">\n  <thead>\n    <tr style=\"text-align: right;\">\n      <th></th>\n      <th>InvoiceNo</th>\n      <th>StockCode</th>\n      <th>Description</th>\n      <th>Quantity</th>\n      <th>InvoiceDate</th>\n      <th>UnitPrice</th>\n      <th>CustomerID</th>\n      <th>Country</th>\n    </tr>\n  </thead>\n  <tbody>\n    <tr>\n      <th>0</th>\n      <td>536365</td>\n      <td>85123A</td>\n      <td>WHITE HANGING HEART T-LIGHT HOLDER</td>\n      <td>6</td>\n      <td>1.291192e+09</td>\n      <td>2.55</td>\n      <td>17850.0</td>\n      <td>United Kingdom</td>\n    </tr>\n    <tr>\n      <th>1</th>\n      <td>536365</td>\n      <td>71053</td>\n      <td>WHITE METAL LANTERN</td>\n      <td>6</td>\n      <td>1.291192e+09</td>\n      <td>3.39</td>\n      <td>17850.0</td>\n      <td>United Kingdom</td>\n    </tr>\n    <tr>\n      <th>2</th>\n      <td>536365</td>\n      <td>84406B</td>\n      <td>CREAM CUPID HEARTS COAT HANGER</td>\n      <td>8</td>\n      <td>1.291192e+09</td>\n      <td>2.75</td>\n      <td>17850.0</td>\n      <td>United Kingdom</td>\n    </tr>\n    <tr>\n      <th>3</th>\n      <td>536365</td>\n      <td>84029G</td>\n      <td>KNITTED UNION FLAG HOT WATER BOTTLE</td>\n      <td>6</td>\n      <td>1.291192e+09</td>\n      <td>3.39</td>\n      <td>17850.0</td>\n      <td>United Kingdom</td>\n    </tr>\n    <tr>\n      <th>4</th>\n      <td>536365</td>\n      <td>84029E</td>\n      <td>RED WOOLLY HOTTIE WHITE HEART.</td>\n      <td>6</td>\n      <td>1.291192e+09</td>\n      <td>3.39</td>\n      <td>17850.0</td>\n      <td>United Kingdom</td>\n    </tr>\n  </tbody>\n</table>\n</div>"
     },
     "execution_count": 10,
     "metadata": {},
     "output_type": "execute_result"
    }
   ],
   "source": [
    "import datetime\n",
    "# to unix timestamp\n",
    "data['InvoiceDate'] = data['InvoiceDate'].apply(lambda x: pd.to_datetime(x).timestamp())\n",
    "data.head()"
   ],
   "metadata": {
    "collapsed": false,
    "ExecuteTime": {
     "end_time": "2023-09-14T06:21:19.213634600Z",
     "start_time": "2023-09-14T06:20:21.858669400Z"
    }
   },
   "id": "8913b44f0c4d9d48"
  },
  {
   "cell_type": "code",
   "execution_count": 11,
   "outputs": [
    {
     "data": {
      "text/plain": "                           Description   InvoiceDate InvoiceNo StockCode\n0   WHITE HANGING HEART T-LIGHT HOLDER  1.291192e+09    536365    85123A\n1                  WHITE METAL LANTERN  1.291192e+09    536365     71053\n2       CREAM CUPID HEARTS COAT HANGER  1.291192e+09    536365    84406B\n3  KNITTED UNION FLAG HOT WATER BOTTLE  1.291192e+09    536365    84029G\n4       RED WOOLLY HOTTIE WHITE HEART.  1.291192e+09    536365    84029E",
      "text/html": "<div>\n<style scoped>\n    .dataframe tbody tr th:only-of-type {\n        vertical-align: middle;\n    }\n\n    .dataframe tbody tr th {\n        vertical-align: top;\n    }\n\n    .dataframe thead th {\n        text-align: right;\n    }\n</style>\n<table border=\"1\" class=\"dataframe\">\n  <thead>\n    <tr style=\"text-align: right;\">\n      <th></th>\n      <th>Description</th>\n      <th>InvoiceDate</th>\n      <th>InvoiceNo</th>\n      <th>StockCode</th>\n    </tr>\n  </thead>\n  <tbody>\n    <tr>\n      <th>0</th>\n      <td>WHITE HANGING HEART T-LIGHT HOLDER</td>\n      <td>1.291192e+09</td>\n      <td>536365</td>\n      <td>85123A</td>\n    </tr>\n    <tr>\n      <th>1</th>\n      <td>WHITE METAL LANTERN</td>\n      <td>1.291192e+09</td>\n      <td>536365</td>\n      <td>71053</td>\n    </tr>\n    <tr>\n      <th>2</th>\n      <td>CREAM CUPID HEARTS COAT HANGER</td>\n      <td>1.291192e+09</td>\n      <td>536365</td>\n      <td>84406B</td>\n    </tr>\n    <tr>\n      <th>3</th>\n      <td>KNITTED UNION FLAG HOT WATER BOTTLE</td>\n      <td>1.291192e+09</td>\n      <td>536365</td>\n      <td>84029G</td>\n    </tr>\n    <tr>\n      <th>4</th>\n      <td>RED WOOLLY HOTTIE WHITE HEART.</td>\n      <td>1.291192e+09</td>\n      <td>536365</td>\n      <td>84029E</td>\n    </tr>\n  </tbody>\n</table>\n</div>"
     },
     "execution_count": 11,
     "metadata": {},
     "output_type": "execute_result"
    }
   ],
   "source": [
    "data = data[['Description', 'InvoiceDate', 'InvoiceNo', 'StockCode']]\n",
    "data.head()"
   ],
   "metadata": {
    "collapsed": false,
    "ExecuteTime": {
     "end_time": "2023-09-14T06:21:19.253463300Z",
     "start_time": "2023-09-14T06:21:19.204632200Z"
    }
   },
   "id": "f00915d809b69e08"
  },
  {
   "cell_type": "code",
   "execution_count": 12,
   "outputs": [
    {
     "name": "stdout",
     "output_type": "stream",
     "text": [
      "<class 'pandas.core.frame.DataFrame'>\n",
      "RangeIndex: 541909 entries, 0 to 541908\n",
      "Data columns (total 4 columns):\n",
      " #   Column       Non-Null Count   Dtype  \n",
      "---  ------       --------------   -----  \n",
      " 0   Description  540455 non-null  object \n",
      " 1   InvoiceDate  541909 non-null  float64\n",
      " 2   InvoiceNo    541909 non-null  object \n",
      " 3   StockCode    541909 non-null  object \n",
      "dtypes: float64(1), object(3)\n",
      "memory usage: 16.5+ MB\n"
     ]
    }
   ],
   "source": [
    "data.info()\n",
    "# 16,520 3,469 519,906"
   ],
   "metadata": {
    "collapsed": false,
    "ExecuteTime": {
     "end_time": "2023-09-14T06:21:19.504331500Z",
     "start_time": "2023-09-14T06:21:19.235485100Z"
    }
   },
   "id": "1dceadbae436f81d"
  },
  {
   "cell_type": "code",
   "execution_count": 13,
   "outputs": [
    {
     "data": {
      "text/plain": "           Description  InvoiceDate  StockCode\nInvoiceNo                                     \n573585            1114         1114       1114\n581219             749          749        749\n581492             731          731        731\n580729             721          721        721\n558475             705          705        705\n...                ...          ...        ...\n557509               1            1          1\n540264               1            1          1\n540272               0            1          1\n557501               1            1          1\n569420               1            1          1\n\n[25900 rows x 3 columns]",
      "text/html": "<div>\n<style scoped>\n    .dataframe tbody tr th:only-of-type {\n        vertical-align: middle;\n    }\n\n    .dataframe tbody tr th {\n        vertical-align: top;\n    }\n\n    .dataframe thead th {\n        text-align: right;\n    }\n</style>\n<table border=\"1\" class=\"dataframe\">\n  <thead>\n    <tr style=\"text-align: right;\">\n      <th></th>\n      <th>Description</th>\n      <th>InvoiceDate</th>\n      <th>StockCode</th>\n    </tr>\n    <tr>\n      <th>InvoiceNo</th>\n      <th></th>\n      <th></th>\n      <th></th>\n    </tr>\n  </thead>\n  <tbody>\n    <tr>\n      <th>573585</th>\n      <td>1114</td>\n      <td>1114</td>\n      <td>1114</td>\n    </tr>\n    <tr>\n      <th>581219</th>\n      <td>749</td>\n      <td>749</td>\n      <td>749</td>\n    </tr>\n    <tr>\n      <th>581492</th>\n      <td>731</td>\n      <td>731</td>\n      <td>731</td>\n    </tr>\n    <tr>\n      <th>580729</th>\n      <td>721</td>\n      <td>721</td>\n      <td>721</td>\n    </tr>\n    <tr>\n      <th>558475</th>\n      <td>705</td>\n      <td>705</td>\n      <td>705</td>\n    </tr>\n    <tr>\n      <th>...</th>\n      <td>...</td>\n      <td>...</td>\n      <td>...</td>\n    </tr>\n    <tr>\n      <th>557509</th>\n      <td>1</td>\n      <td>1</td>\n      <td>1</td>\n    </tr>\n    <tr>\n      <th>540264</th>\n      <td>1</td>\n      <td>1</td>\n      <td>1</td>\n    </tr>\n    <tr>\n      <th>540272</th>\n      <td>0</td>\n      <td>1</td>\n      <td>1</td>\n    </tr>\n    <tr>\n      <th>557501</th>\n      <td>1</td>\n      <td>1</td>\n      <td>1</td>\n    </tr>\n    <tr>\n      <th>569420</th>\n      <td>1</td>\n      <td>1</td>\n      <td>1</td>\n    </tr>\n  </tbody>\n</table>\n<p>25900 rows × 3 columns</p>\n</div>"
     },
     "execution_count": 13,
     "metadata": {},
     "output_type": "execute_result"
    }
   ],
   "source": [
    "data.groupby('InvoiceNo').count().sort_values(by='InvoiceDate', ascending=False)"
   ],
   "metadata": {
    "collapsed": false,
    "ExecuteTime": {
     "end_time": "2023-09-14T06:21:19.686303900Z",
     "start_time": "2023-09-14T06:21:19.470375800Z"
    }
   },
   "id": "eb18df6deb6b5a5d"
  },
  {
   "cell_type": "code",
   "execution_count": 14,
   "outputs": [
    {
     "name": "stdout",
     "output_type": "stream",
     "text": [
      "User: 25900, Item: 4070, Invoice: 541909\n"
     ]
    }
   ],
   "source": [
    "user_len = data['InvoiceNo'].value_counts()\n",
    "item_len = data['StockCode'].value_counts()\n",
    "invocie_len = len(data)\n",
    "\n",
    "print(f\"User: {len(user_len)}, Item: {len(item_len)}, Invoice: {data['InvoiceDate'].count()}\")"
   ],
   "metadata": {
    "collapsed": false,
    "ExecuteTime": {
     "end_time": "2023-09-14T06:21:19.835470100Z",
     "start_time": "2023-09-14T06:21:19.686303900Z"
    }
   },
   "id": "2e39b241c2825769"
  },
  {
   "cell_type": "code",
   "execution_count": 15,
   "outputs": [],
   "source": [
    "user_field = LabelField()\n",
    "s_field = LabelField()\n",
    "sequences = defaultdict(list)\n",
    "raw_sequences = defaultdict(list)"
   ],
   "metadata": {
    "collapsed": false,
    "ExecuteTime": {
     "end_time": "2023-09-14T06:21:19.835470100Z",
     "start_time": "2023-09-14T06:21:19.770090300Z"
    }
   },
   "id": "74f282b8a64a7a9c"
  },
  {
   "cell_type": "code",
   "execution_count": 21,
   "outputs": [
    {
     "name": "stderr",
     "output_type": "stream",
     "text": [
      "100%|██████████| 541909/541909 [00:00<00:00, 1502052.31it/s]\n"
     ]
    },
    {
     "data": {
      "text/plain": "541909"
     },
     "execution_count": 21,
     "metadata": {},
     "output_type": "execute_result"
    }
   ],
   "source": [
    "# Create interactions\n",
    "inters = []\n",
    "for row in tqdm(data.itertuples(), total=len(data)):\n",
    "    user_id = row.InvoiceNo\n",
    "    item_id = row.StockCode\n",
    "    time = row.InvoiceDate\n",
    "    if row.Description:\n",
    "        inters.append((user_id, item_id, time))\n",
    "\n",
    "len(inters)"
   ],
   "metadata": {
    "collapsed": false,
    "ExecuteTime": {
     "end_time": "2023-09-14T07:10:59.187378400Z",
     "start_time": "2023-09-14T07:10:58.788540100Z"
    }
   },
   "id": "9c6c23e561c73a66"
  },
  {
   "cell_type": "code",
   "execution_count": 51,
   "outputs": [
    {
     "name": "stderr",
     "output_type": "stream",
     "text": [
      "100%|██████████| 541909/541909 [00:00<00:00, 1469452.24it/s]\n"
     ]
    },
    {
     "data": {
      "text/plain": "3958"
     },
     "execution_count": 51,
     "metadata": {},
     "output_type": "execute_result"
    }
   ],
   "source": [
    "# Create Item2Seq\n",
    "item2seq = {}\n",
    "for row in tqdm(data.itertuples(), total=len(data)):\n",
    "    if isinstance(row.Description, str) and len(row.Description) > 0:\n",
    "        item_id = row.StockCode\n",
    "        item2seq[item_id] = row.Description\n",
    "\n",
    "len(item2seq)"
   ],
   "metadata": {
    "collapsed": false,
    "ExecuteTime": {
     "end_time": "2023-09-14T08:28:47.202380200Z",
     "start_time": "2023-09-14T08:28:46.824532700Z"
    }
   },
   "id": "d8c163756a734735"
  },
  {
   "cell_type": "code",
   "execution_count": 23,
   "outputs": [
    {
     "name": "stdout",
     "output_type": "stream",
     "text": [
      "\n",
      "Filtering by k-core:\n",
      "    Epoch 1 The number of inters: 525514, users: 16537, items: 3524\n",
      "    Epoch 2 The number of inters: 525309, users: 16531, items: 3472\n",
      "    Epoch 3 The number of inters: 525301, users: 16529, items: 3472\n",
      "    Epoch 4 The number of inters: 525297, users: 16529, items: 3471\n"
     ]
    }
   ],
   "source": [
    "# Filter K core\n",
    "\n",
    "def get_user2count(inters):\n",
    "    user2count = defaultdict(int)\n",
    "    for unit in inters:\n",
    "        user2count[unit[0]] += 1\n",
    "    return user2count\n",
    "\n",
    "\n",
    "def get_item2count(inters):\n",
    "    item2count = defaultdict(int)\n",
    "    for unit in inters:\n",
    "        item2count[unit[1]] += 1\n",
    "    return item2count\n",
    "\n",
    "\n",
    "def generate_candidates(unit2count, threshold):\n",
    "    cans = set()\n",
    "    for unit, count in unit2count.items():\n",
    "        if count >= threshold:\n",
    "            cans.add(unit)\n",
    "    return cans, len(unit2count) - len(cans)\n",
    "\n",
    "user_k_core_threshold = 5\n",
    "item_k_core_threshold = 5\n",
    "\n",
    "if user_k_core_threshold or item_k_core_threshold:\n",
    "    new_inters = []\n",
    "    print('\\nFiltering by k-core:')\n",
    "    idx = 0\n",
    "    user2count = get_user2count(inters)\n",
    "    item2count = get_item2count(inters)\n",
    "\n",
    "    while True:\n",
    "        new_user2count = defaultdict(int)\n",
    "        new_item2count = defaultdict(int)\n",
    "        users, n_filtered_users = generate_candidates(\n",
    "            user2count, user_k_core_threshold)\n",
    "        items, n_filtered_items = generate_candidates(\n",
    "            item2count, item_k_core_threshold)\n",
    "        if n_filtered_users == 0 and n_filtered_items == 0:\n",
    "            break\n",
    "        for unit in inters:\n",
    "            if unit[0] in users and unit[1] in items:\n",
    "                new_inters.append(unit)\n",
    "                new_user2count[unit[0]] += 1\n",
    "                new_item2count[unit[1]] += 1\n",
    "        idx += 1\n",
    "        inters, new_inters = new_inters, []\n",
    "        user2count, item2count = new_user2count, new_item2count\n",
    "        print('    Epoch %d The number of inters: %d, users: %d, items: %d'\n",
    "                % (idx, len(inters), len(user2count), len(item2count)))"
   ],
   "metadata": {
    "collapsed": false,
    "ExecuteTime": {
     "end_time": "2023-09-14T07:15:11.196868400Z",
     "start_time": "2023-09-14T07:15:10.549142300Z"
    }
   },
   "id": "6784d310971ce5e4"
  },
  {
   "cell_type": "code",
   "execution_count": 30,
   "outputs": [
    {
     "name": "stderr",
     "output_type": "stream",
     "text": [
      "100%|██████████| 525297/525297 [00:00<00:00, 1230027.80it/s]\n"
     ]
    }
   ],
   "source": [
    "# Check\n",
    "raw_sequences = defaultdict(list)\n",
    "usercount = defaultdict(int)\n",
    "itemcount = defaultdict(int)\n",
    "titlelen = []\n",
    "\n",
    "for unit in tqdm(inters):\n",
    "    user_id = unit[0]\n",
    "    item_id = unit[1]\n",
    "    time = unit[2]\n",
    "    usercount[user_id] += 1\n",
    "    itemcount[item_id] += 1\n",
    "    titlelen.append(len(item2seq[item_id]))\n",
    "    raw_sequences[user_id].append((item_id, time))"
   ],
   "metadata": {
    "collapsed": false,
    "ExecuteTime": {
     "end_time": "2023-09-14T07:20:10.661955100Z",
     "start_time": "2023-09-14T07:20:10.199647700Z"
    }
   },
   "id": "8928441f9fcc2866"
  },
  {
   "cell_type": "code",
   "execution_count": 31,
   "outputs": [
    {
     "data": {
      "text/plain": "16529"
     },
     "execution_count": 31,
     "metadata": {},
     "output_type": "execute_result"
    }
   ],
   "source": [
    "len(raw_sequences)"
   ],
   "metadata": {
    "collapsed": false,
    "ExecuteTime": {
     "end_time": "2023-09-14T07:20:15.377792200Z",
     "start_time": "2023-09-14T07:20:15.371793600Z"
    }
   },
   "id": "9071b75c0dac321a"
  },
  {
   "cell_type": "code",
   "execution_count": 37,
   "outputs": [],
   "source": [
    "sequences = defaultdict(list)"
   ],
   "metadata": {
    "collapsed": false,
    "ExecuteTime": {
     "end_time": "2023-09-14T07:23:33.510322900Z",
     "start_time": "2023-09-14T07:23:33.496961100Z"
    }
   },
   "id": "b4bf6f834ed71a11"
  },
  {
   "cell_type": "code",
   "execution_count": 38,
   "outputs": [
    {
     "name": "stderr",
     "output_type": "stream",
     "text": [
      "100%|██████████| 16529/16529 [00:00<00:00, 301126.06it/s]"
     ]
    },
    {
     "name": "stdout",
     "output_type": "stream",
     "text": [
      "Users: 20060, Items: 3927, Intersects: 525297\n"
     ]
    },
    {
     "name": "stderr",
     "output_type": "stream",
     "text": [
      "\n"
     ]
    }
   ],
   "source": [
    "\n",
    "for k, v in raw_sequences.items():\n",
    "    if len(v) >= 2:\n",
    "        sequences[user_field.get_id(k)] = [(s_field.get_id(ele[0]), ele[1]) for ele in v]\n",
    "\n",
    "train_dict = dict()\n",
    "dev_dict = dict()\n",
    "test_dict = dict()\n",
    "\n",
    "intersections = 0\n",
    "\n",
    "for k, v in tqdm(sequences.items()):\n",
    "    sequences[k] = sorted(v, key=lambda x: x[1])\n",
    "    sequences[k] = [ele[0] for ele in sequences[k]]\n",
    "\n",
    "    length = len(sequences[k])\n",
    "    intersections += length\n",
    "    if length < 4:\n",
    "        train_dict[k] = sequences[k]\n",
    "    else:\n",
    "        train_dict[k] = sequences[k][: length - 2]\n",
    "        dev_dict[k] = [sequences[k][length - 2]]\n",
    "        test_dict[k] = [sequences[k][length - 1]]\n",
    "\n",
    "print(f\"Users: {len(user_field.label2id)}, Items: {len(s_field.label2id)}, Intersects: {intersections}\")"
   ],
   "metadata": {
    "collapsed": false,
    "ExecuteTime": {
     "end_time": "2023-09-14T07:23:34.143357300Z",
     "start_time": "2023-09-14T07:23:34.009519400Z"
    }
   },
   "id": "dd565e6d805bd4b4"
  },
  {
   "cell_type": "code",
   "execution_count": 47,
   "outputs": [
    {
     "data": {
      "text/plain": "'CREAM HANGING HEART T-LIGHT HOLDER'"
     },
     "execution_count": 47,
     "metadata": {},
     "output_type": "execute_result"
    }
   ],
   "source": [
    "item2seq['85123A']"
   ],
   "metadata": {
    "collapsed": false,
    "ExecuteTime": {
     "end_time": "2023-09-14T08:28:05.833986100Z",
     "start_time": "2023-09-14T08:28:05.821474700Z"
    }
   },
   "id": "7b550dcab80f4fab"
  },
  {
   "cell_type": "code",
   "execution_count": 52,
   "outputs": [
    {
     "data": {
      "text/plain": "{'85123A': {'description': 'CREAM HANGING HEART T-LIGHT HOLDER'},\n '71053': {'description': 'WHITE MOROCCAN METAL LANTERN'},\n '84406B': {'description': 'CREAM CUPID HEARTS COAT HANGER'},\n '84029G': {'description': 'KNITTED UNION FLAG HOT WATER BOTTLE'},\n '84029E': {'description': 'RED WOOLLY HOTTIE WHITE HEART.'},\n '22752': {'description': 'SET 7 BABUSHKA NESTING BOXES'},\n '21730': {'description': 'GLASS STAR FROSTED T-LIGHT HOLDER'},\n '22633': {'description': 'HAND WARMER UNION JACK'},\n '22632': {'description': 'HAND WARMER RED RETROSPOT'},\n '84879': {'description': 'ASSORTED COLOUR BIRD ORNAMENT'},\n '22745': {'description': \"POPPY'S PLAYHOUSE BEDROOM \"},\n '22748': {'description': \"POPPY'S PLAYHOUSE KITCHEN\"},\n '22749': {'description': 'FELTCRAFT PRINCESS CHARLOTTE DOLL'},\n '22310': {'description': 'IVORY KNITTED MUG COSY '},\n '84969': {'description': 'BOX OF 6 ASSORTED COLOUR TEASPOONS'},\n '22623': {'description': 'BOX OF VINTAGE JIGSAW BLOCKS '},\n '22622': {'description': 'BOX OF VINTAGE ALPHABET BLOCKS'},\n '21754': {'description': 'HOME BUILDING BLOCK WORD'},\n '21755': {'description': 'LOVE BUILDING BLOCK WORD'},\n '21777': {'description': 'RECIPE BOX WITH METAL HEART'},\n '48187': {'description': 'DOORMAT NEW ENGLAND'},\n '22960': {'description': 'JAM MAKING SET WITH JARS'},\n '22913': {'description': 'RED COAT RACK PARIS FASHION'},\n '22912': {'description': 'YELLOW COAT RACK PARIS FASHION'},\n '22914': {'description': 'BLUE COAT RACK PARIS FASHION'},\n '21756': {'description': 'BATH BUILDING BLOCK WORD'},\n '22728': {'description': 'ALARM CLOCK BAKELIKE PINK'},\n '22727': {'description': 'ALARM CLOCK BAKELIKE RED '},\n '22726': {'description': 'ALARM CLOCK BAKELIKE GREEN'},\n '21724': {'description': 'PANDA AND BUNNIES STICKER SHEET'},\n '21883': {'description': 'STARS GIFT TAPE '},\n '10002': {'description': 'INFLATABLE POLITICAL GLOBE '},\n '21791': {'description': 'VINTAGE HEADS AND TAILS CARD GAME '},\n '21035': {'description': 'SET/2 RED RETROSPOT TEA TOWELS '},\n '22326': {'description': 'ROUND SNACK BOXES SET OF4 WOODLAND '},\n '22629': {'description': 'SPACEBOY LUNCH BOX '},\n '22659': {'description': 'LUNCH BOX I LOVE LONDON'},\n '22631': {'description': 'CIRCUS PARADE LUNCH BOX '},\n '22661': {'description': 'CHARLOTTE BAG DOLLY GIRL DESIGN'},\n '21731': {'description': 'RED TOADSTOOL LED NIGHT LIGHT'},\n '22900': {'description': 'SET 2 TEA TOWELS I LOVE LONDON '},\n '21913': {'description': 'VINTAGE SEASIDE JIGSAW PUZZLES'},\n '22540': {'description': 'MINI JIGSAW CIRCUS PARADE '},\n '22544': {'description': 'MINI JIGSAW SPACEBOY'},\n '22492': {'description': 'MINI PAINT SET VINTAGE '},\n 'POST': {'description': 'POSTAGE'},\n '22086': {'description': \"PAPER CHAIN KIT 50'S CHRISTMAS \"},\n '20679': {'description': 'EDWARDIAN PARASOL RED'},\n '37370': {'description': 'RETRO COFFEE MUGS ASSORTED'},\n '21871': {'description': 'SAVE THE PLANET MUG'},\n '21071': {'description': 'VINTAGE BILLBOARD DRINK ME MUG'},\n '21068': {'description': 'VINTAGE BILLBOARD LOVE/HATE MUG'},\n '82483': {'description': 'WOOD 2 DRAWER CABINET WHITE FINISH'},\n '82486': {'description': '3 DRAWER ANTIQUE WHITE WOOD CABINET'},\n '82482': {'description': 'WOODEN PICTURE FRAME WHITE FINISH'},\n '82494L': {'description': 'WOODEN FRAME ANTIQUE WHITE '},\n '21258': {'description': 'VICTORIAN SEWING BOX LARGE'},\n '22114': {'description': 'HOT WATER BOTTLE TEA AND SYMPATHY'},\n '21733': {'description': 'RED HANGING HEART T-LIGHT HOLDER'},\n '22386': {'description': 'JUMBO BAG PINK POLKADOT'},\n '85099C': {'description': 'JUMBO  BAG BAROQUE BLACK WHITE'},\n '21033': {'description': 'JUMBO BAG CHARLIE AND LOLA TOYS'},\n '20723': {'description': 'STRAWBERRY CHARLOTTE BAG'},\n '84997B': {'description': 'CHILDRENS CUTLERY RETROSPOT RED '},\n '84997C': {'description': 'CHILDRENS CUTLERY POLKADOT BLUE'},\n '21094': {'description': 'SET/6 RED SPOTTY PAPER PLATES'},\n '20725': {'description': 'LUNCH BAG RED RETROSPOT'},\n '21559': {'description': 'STRAWBERRY LUNCH BOX WITH CUTLERY'},\n '22352': {'description': 'LUNCH BOX WITH CUTLERY RETROSPOT '},\n '21212': {'description': 'PACK OF 72 RETROSPOT CAKE CASES'},\n '21975': {'description': 'PACK OF 60 DINOSAUR CAKE CASES'},\n '21977': {'description': 'PACK OF 60 PINK PAISLEY CAKE CASES'},\n '84991': {'description': '60 TEATIME FAIRY CAKE CASES'},\n '84519A': {'description': 'TOMATO CHARLIE+LOLA COASTER SET'},\n '85183B': {'description': 'CHARLIE & LOLA WASTEPAPER BIN FLORA'},\n '85071B': {'description': 'RED CHARLIE+LOLA PERSONAL DOORSIGN'},\n '21931': {'description': 'JUMBO STORAGE BAG SUKI'},\n '21929': {'description': 'JUMBO BAG PINK VINTAGE PAISLEY'},\n '22961': {'description': 'JAM MAKING SET PRINTED'},\n '22139': {'description': 'RETROSPOT TEA SET CERAMIC 11 PC '},\n '84854': {'description': 'GIRLY PINK TOOL SET'},\n '22411': {'description': 'JUMBO SHOPPER VINTAGE RED PAISLEY'},\n '82567': {'description': 'AIRLINE LOUNGE,METAL SIGN'},\n '21672': {'description': 'WHITE SPOT RED CERAMIC DRAWER KNOB'},\n '22774': {'description': 'RED DRAWER KNOB ACRYLIC EDWARDIAN'},\n '22771': {'description': 'CLEAR DRAWER KNOB ACRYLIC EDWARDIAN'},\n '71270': {'description': 'PHOTO CLIP LINE'},\n '22262': {'description': 'FELT EGG COSY CHICKEN'},\n '22637': {'description': 'PIGGY BANK RETROSPOT '},\n '21934': {'description': 'SKULL SHOULDER BAG'},\n '21169': {'description': \"YOU'RE CONFUSING ME METAL SIGN \"},\n '21166': {'description': 'COOK WITH WINE METAL SIGN '},\n '21175': {'description': 'GIN AND TONIC DIET METAL SIGN'},\n '37444A': {'description': 'YELLOW BREAKFAST CUP AND SAUCER'},\n '37444C': {'description': 'PINK BREAKFAST CUP AND SAUCER '},\n '22083': {'description': 'PAPER CHAIN KIT RETROSPOT'},\n '84971S': {'description': 'SMALL HEART FLOWERS HOOK '},\n '47580': {'description': 'TEA TIME DES TEA COSY'},\n '22261': {'description': 'FELT EGG COSY WHITE RABBIT '},\n '84832': {'description': 'ZINC WILLIE WINKIE  CANDLE STICK'},\n '22644': {'description': 'CERAMIC CHERRY CAKE MONEY BANK'},\n '21533': {'description': 'RETROSPOT LARGE MILK JUG'},\n '21557': {'description': 'SET OF 6 FUNKY BEAKERS'},\n '15056BL': {'description': 'EDWARDIAN PARASOL BLACK'},\n '15056N': {'description': 'EDWARDIAN PARASOL NATURAL'},\n '22646': {'description': 'CERAMIC STRAWBERRY CAKE MONEY BANK'},\n '22176': {'description': 'amazon'},\n '22438': {'description': 'BALLOON ART MAKE YOUR OWN FLOWERS'},\n '22778': {'description': 'GLASS CLOCHE SMALL'},\n '22719': {'description': 'GUMBALL MONOCHROME COAT RACK'},\n '21523': {'description': 'DOORMAT FANCY FONT HOME SWEET HOME'},\n 'D': {'description': 'Discount'},\n '21912': {'description': 'VINTAGE SNAKES & LADDERS'},\n '21832': {'description': 'CHOCOLATE CALCULATOR'},\n '22379': {'description': 'RECYCLING BAG RETROSPOT '},\n '22381': {'description': 'TOY TIDY PINK POLKADOT'},\n '22798': {'description': 'ANTIQUE GLASS DRESSING TABLE POT'},\n '22926': {'description': 'IVORY GIANT GARDEN THERMOMETER'},\n '22839': {'description': '3 TIER CAKE TIN GREEN AND CREAM'},\n '22838': {'description': '3 TIER CAKE TIN RED AND CREAM'},\n '22783': {'description': 'SET 3 WICKER OVAL BASKETS W LIDS'},\n '35004C': {'description': 'SET OF 3 COLOURED  FLYING DUCKS'},\n '82484': {'description': 'WOOD BLACK BOARD ANT WHITE FINISH'},\n '84755': {'description': 'COLOUR GLASS T-LIGHT HOLDER HANGING'},\n '22464': {'description': 'HANGING METAL HEART LANTERN'},\n '21324': {'description': 'HANGING MEDINA LANTERN SMALL'},\n '22457': {'description': 'NATURAL SLATE HEART CHALKBOARD '},\n '22469': {'description': 'HEART OF WICKER SMALL'},\n '22470': {'description': 'HEART OF WICKER LARGE'},\n '22224': {'description': 'WHITE LOVEBIRD LANTERN'},\n '21340': {'description': 'CLASSIC METAL BIRDCAGE PLANT HOLDER'},\n '22189': {'description': 'CREAM HEART CARD HOLDER'},\n '22427': {'description': 'ENAMEL FLOWER JUG CREAM'},\n '22428': {'description': 'ENAMEL FIRE BUCKET CREAM'},\n '22424': {'description': 'ENAMEL BREAD BIN CREAM'},\n '22663': {'description': 'JUMBO BAG DOLLY GIRL DESIGN'},\n '85049A': {'description': 'TRADITIONAL CHRISTMAS RIBBONS'},\n '22168': {'description': 'ORGANISER WOOD ANTIQUE WHITE '},\n '22662': {'description': 'LUNCH BAG DOLLY GIRL DESIGN'},\n '84880': {'description': 'WHITE WIRE EGG HOLDER'},\n '85099B': {'description': 'JUMBO BAG RED RETROSPOT'},\n '79321': {'description': 'CHILLI LIGHTS'},\n '22780': {'description': 'LIGHT GARLAND BUTTERFILES PINK'},\n '22779': {'description': 'WOODEN OWLS LIGHT GARLAND '},\n '22466': {'description': 'FAIRY TALE COTTAGE NIGHT LIGHT'},\n '21363': {'description': 'HOME SMALL WOOD LETTERS'},\n '21411': {'description': 'GINGHAM HEART  DOORSTOP RED'},\n '22318': {'description': 'FIVE HEART HANGING DECORATION'},\n '22915': {'description': 'ASSORTED BOTTLE TOP  MAGNETS '},\n '22922': {'description': 'FRIDGE MAGNETS US DINER ASSORTED'},\n '22969': {'description': 'HOMEMADE JAM SCENTED CANDLES'},\n '22923': {'description': 'FRIDGE MAGNETS LES ENFANTS ASSORTED'},\n '21115': {'description': 'ROSE CARAVAN DOORSTOP'},\n '22242': {'description': '5 HOOK HANGER MAGIC TOADSTOOL'},\n '22941': {'description': 'CHRISTMAS LIGHTS 10 REINDEER'},\n '21622': {'description': 'VINTAGE UNION JACK CUSHION COVER'},\n '35004G': {'description': 'SET OF 3 GOLD FLYING DUCKS'},\n '85014B': {'description': 'RED RETROSPOT UMBRELLA'},\n '85014A': {'description': 'BLACK/BLUE POLKADOT UMBRELLA'},\n '22193': {'description': 'RED DINER WALL CLOCK'},\n '22192': {'description': 'BLUE DINER WALL CLOCK'},\n '22191': {'description': 'IVORY DINER WALL CLOCK'},\n '22195': {'description': 'LARGE HEART MEASURING SPOONS'},\n '22196': {'description': 'SMALL HEART MEASURING SPOONS'},\n '22962': {'description': 'JAM JAR WITH PINK LID'},\n '22963': {'description': 'JAM JAR WITH GREEN LID'},\n '22968': {'description': 'ROSE COTTAGE KEEPSAKE BOX '},\n '84970S': {'description': 'HANGING HEART ZINC T-LIGHT HOLDER'},\n '22910': {'description': 'PAPER CHAIN KIT VINTAGE CHRISTMAS'},\n '20668': {'description': 'DISCO BALL CHRISTMAS DECORATION'},\n '22197': {'description': 'POPCORN HOLDER'},\n '22198': {'description': 'LARGE POPCORN HOLDER '},\n '21080': {'description': 'SET/20 RED RETROSPOT PAPER NAPKINS '},\n '21086': {'description': 'SET/6 RED SPOTTY PAPER CUPS'},\n '21786': {'description': 'POLKADOT RAIN HAT '},\n '22654': {'description': 'DELUXE SEWING KIT '},\n '21485': {'description': 'RETROSPOT HEART HOT WATER BOTTLE'},\n '84030E': {'description': 'ENGLISH ROSE HOT WATER BOTTLE'},\n '22174': {'description': 'PHOTO CUBE'},\n '22556': {'description': 'PLASTERS IN TIN CIRCUS PARADE '},\n '21984': {'description': 'PACK OF 12 PINK PAISLEY TISSUES '},\n '21983': {'description': 'PACK OF 12 BLUE PAISLEY TISSUES '},\n '21980': {'description': 'PACK OF 12 RED RETROSPOT TISSUES '},\n '21484': {'description': 'CHICK GREY HOT WATER BOTTLE'},\n '22557': {'description': 'PLASTERS IN TIN VINTAGE PAISLEY '},\n '22553': {'description': 'PLASTERS IN TIN SKULLS'},\n '22150': {'description': '3 STRIPEY MICE FELTCRAFT'},\n '22619': {'description': 'SET OF 6 SOLDIER SKITTLES'},\n '21891': {'description': 'TRADITIONAL WOODEN SKIPPING ROPE'},\n '21889': {'description': 'WOODEN BOX OF DOMINOES'},\n '22827': {'description': 'RUSTIC  SEVENTEEN DRAWER SIDEBOARD'},\n '22127': {'description': 'sold in set?'},\n '22128': {'description': 'PARTY CONES CANDY ASSORTED'},\n '22502': {'description': 'PICNIC BASKET WICKER SMALL'},\n '22338': {'description': 'STAR DECORATION PAINTED ZINC '},\n '22180': {'description': 'RETROSPOT LAMP'},\n '21506': {'description': 'FANCY FONT BIRTHDAY CARD, '},\n '22866': {'description': 'HAND WARMER SCOTTY DOG DESIGN'},\n '22865': {'description': 'HAND WARMER OWL DESIGN'},\n '22349': {'description': 'DOG BOWL CHASING BALL DESIGN'},\n '22558': {'description': 'CLOTHES PEGS RETROSPOT PACK 24 '},\n '85152': {'description': 'HAND OVER THE CHOCOLATE   SIGN '},\n '22652': {'description': 'TRAVEL SEWING KIT'},\n '22188': {'description': 'BLACK HEART CARD HOLDER'},\n '21314': {'description': 'SMALL GLASS HEART TRINKET POT'},\n '22730': {'description': 'ALARM CLOCK BAKELIKE IVORY'},\n '22729': {'description': 'ALARM CLOCK BAKELIKE ORANGE'},\n '22867': {'description': 'HAND WARMER BIRD DESIGN'},\n '22803': {'description': 'IVORY EMBROIDERED QUILT '},\n '35004B': {'description': 'SET OF 3 BLACK FLYING DUCKS'},\n '21844': {'description': 'RED RETROSPOT MUG'},\n '22468': {'description': 'BABUSHKA LIGHTS STRING OF 10'},\n '48185': {'description': 'DOORMAT FAIRY CAKE'},\n '21232': {'description': 'STRAWBERRY CERAMIC TRINKET POT'},\n '22064': {'description': 'PINK DOUGHNUT TRINKET POT '},\n '22449': {'description': 'SILK PURSE BABUSHKA PINK'},\n '22835': {'description': 'HOT WATER BOTTLE I AM SO POORLY'},\n '22112': {'description': 'CHOCOLATE HOT WATER BOTTLE'},\n '21479': {'description': 'WHITE SKULL HOT WATER BOTTLE '},\n '22111': {'description': 'SCOTTIE DOG HOT WATER BOTTLE'},\n '22110': {'description': 'BIRD HOUSE HOT WATER BOTTLE'},\n '22098': {'description': 'BOUDOIR SQUARE TISSUE BOX'},\n '22100': {'description': 'SKULLS SQUARE TISSUE BOX'},\n '22766': {'description': 'PHOTO FRAME CORNICE'},\n '22451': {'description': 'SILK PURSE BABUSHKA RED'},\n '22549': {'description': 'PICTURE DOMINOES'},\n '84744': {'description': 'S/6 SEW ON CROCHET FLOWERS'},\n '85049E': {'description': 'SCANDINAVIAN REDS RIBBONS'},\n '21328': {'description': 'BALLOONS  WRITING SET '},\n '17091A': {'description': 'LAVENDER INCENSE IN TIN'},\n '22473': {'description': 'TV DINNER TRAY VINTAGE PAISLEY'},\n '84509A': {'description': 'SET OF 4 ENGLISH ROSE PLACEMATS'},\n '84510A': {'description': 'SET OF 4 ENGLISH ROSE COASTERS'},\n '22767': {'description': 'TRIPLE PHOTO FRAME CORNICE '},\n '22768': {'description': 'FAMILY PHOTO FRAME CORNICE'},\n '21463': {'description': 'MIRRORED DISCO BALL '},\n '21464': {'description': 'DISCO BALL ROTATOR BATTERY OPERATED'},\n '20820': {'description': 'SILVER LOOKING MIRROR'},\n '85150': {'description': 'LADIES & GENTLEMEN METAL SIGN'},\n '22117': {'description': 'METAL SIGN HER DINNER IS SERVED '},\n '48129': {'description': 'DOORMAT TOPIARY'},\n '82580': {'description': 'BATHROOM METAL SIGN'},\n '82578': {'description': 'KITCHEN METAL SIGN'},\n '82581': {'description': 'TOILET METAL SIGN'},\n '22413': {'description': 'METAL SIGN TAKE IT OR LEAVE IT '},\n '21907': {'description': \"I'M ON HOLIDAY METAL SIGN\"},\n '22441': {'description': 'GROW YOUR OWN BASIL IN ENAMEL MUG'},\n '21122': {'description': 'SET/10 PINK POLKADOT PARTY CANDLES'},\n '22851': {'description': 'SET 20 NAPKINS FAIRY CAKES DESIGN '},\n '22810': {'description': 'SET OF 6 T-LIGHTS SNOWMEN'},\n '22809': {'description': 'SET OF 6 T-LIGHTS SANTA'},\n '22435': {'description': 'SET OF 9 HEART SHAPED BALLOONS'},\n '20966': {'description': 'SANDWICH BATH SPONGE'},\n '20963': {'description': 'APPLE BATH SPONGE'},\n '20961': {'description': 'STRAWBERRY BATH SPONGE '},\n '22068': {'description': 'BLACK PIRATE TREASURE CHEST'},\n '21743': {'description': 'STAR PORTABLE TABLE LIGHT '},\n '21744': {'description': 'SNOWFLAKE PORTABLE TABLE LIGHT '},\n '84709B': {'description': 'PINK OVAL JEWELLED MIRROR'},\n '21592': {'description': 'RETROSPOT CIGAR BOX MATCHES '},\n '21587': {'description': 'COSY HOUR GIANT TUBE MATCHES'},\n '20992': {'description': 'JAZZ HEARTS PURSE NOTEBOOK'},\n '22804': {'description': 'PINK HANGING HEART T-LIGHT HOLDER'},\n '20749': {'description': 'ASSORTED COLOUR MINI CASES'},\n '22382': {'description': 'LUNCH BAG SPACEBOY DESIGN '},\n '20726': {'description': 'LUNCH BAG WOODLAND'},\n '22384': {'description': 'LUNCH BAG PINK POLKADOT'},\n '22467': {'description': 'GUMBALL COAT RACK'},\n '84625C': {'description': 'BLUE NEW BAROQUE CANDLESTICK CANDLE'},\n '84625A': {'description': 'PINK NEW BAROQUECANDLESTICK CANDLE'},\n '21108': {'description': 'FAIRY CAKE FLANNEL ASSORTED COLOUR'},\n '22848': {'description': 'AMAZON'},\n '47570B': {'description': 'TEA TIME TABLE CLOTH'},\n '22837': {'description': 'HOT WATER BOTTLE BABUSHKA '},\n '22297': {'description': 'HEART IVORY TRELLIS SMALL'},\n '22772': {'description': 'PINK DRAWER KNOB ACRYLIC EDWARDIAN'},\n '22773': {'description': 'GREEN DRAWER KNOB ACRYLIC EDWARDIAN'},\n '22805': {'description': 'BLUE DRAWER KNOB ACRYLIC EDWARDIAN'},\n '21125': {'description': 'SET 6 FOOTBALL CELEBRATION CANDLES'},\n '21126': {'description': 'SET OF 6 GIRLS CELEBRATION CANDLES'},\n '85049C': {'description': 'ROMANTIC PINKS RIBBONS '},\n '85049D': {'description': 'BRIGHT BLUES RIBBONS '},\n '85049G': {'description': 'CHOCOLATE BOX RIBBONS '},\n '21061': {'description': 'PARTY INVITES FOOTBALL'},\n '21063': {'description': 'PARTY INVITES JAZZ HEARTS'},\n '21062': {'description': 'PARTY INVITES SPACEMAN'},\n '84380': {'description': 'SET OF 3 BUTTERFLY COOKIE CUTTERS'},\n '84378': {'description': 'SET OF 3 HEART COOKIE CUTTERS'},\n '22964': {'description': '3 PIECE SPACEBOY COOKIE CUTTER SET'},\n '21213': {'description': 'PACK OF 72 SKULL CAKE CASES'},\n '22417': {'description': 'PACK OF 60 SPACEBOY CAKE CASES'},\n '84992': {'description': '72 SWEETHEART FAIRY CAKE CASES'},\n '22383': {'description': 'LUNCH BAG SUKI DESIGN '},\n '20728': {'description': 'LUNCH BAG CARS BLUE'},\n '20727': {'description': 'LUNCH BAG  BLACK SKULL.'},\n '22296': {'description': 'HEART IVORY TRELLIS LARGE'},\n '20914': {'description': 'SET/5 RED RETROSPOT LID GLASS BOWLS'},\n '22537': {'description': 'MAGIC DRAWING SLATE DINOSAUR'},\n '22533': {'description': 'MAGIC DRAWING SLATE BAKE A CAKE '},\n '20982': {'description': '12 PENCILS TALL TUBE SKULLS'},\n '21915': {'description': 'RED  HARMONICA IN BOX '},\n '21914': {'description': 'BLUE HARMONICA IN BOX '},\n '21544': {'description': 'SKULLS  WATER TRANSFER TATTOOS '},\n '22813': {'description': 'PACK 3 BOXES BIRD PANETTONE '},\n '84375': {'description': 'SET OF 20 KIDS COOKIE CUTTERS'},\n '22418': {'description': '10 COLOUR SPACEBOY PEN'},\n '22178': {'description': 'VICTORIAN GLASS HANGING T-LIGHT'},\n '84970L': {'description': 'SINGLE HEART ZINC T-LIGHT HOLDER'},\n '22465': {'description': 'HANGING METAL STAR LANTERN'},\n '84949': {'description': 'SILVER HANGING T-LIGHT HOLDER'},\n '20685': {'description': 'DOORMAT RED RETROSPOT'},\n '48194': {'description': 'DOORMAT HEARTS'},\n '22488': {'description': 'NATURAL SLATE RECTANGLE CHALKBOARD'},\n '22219': {'description': 'LOVEBIRD HANGING DECORATION WHITE '},\n '22610': {'description': 'PENS ASSORTED FUNNY FACE'},\n '22716': {'description': 'CARD CIRCUS PARADE'},\n '22706': {'description': 'WRAP COWBOYS  '},\n '22371': {'description': 'AIRLINE BAG VINTAGE TOKYO 78'},\n '21210': {'description': 'SET OF 72 RETROSPOT PAPER  DOILIES'},\n '16237': {'description': 'SLEEPING CAT ERASERS'},\n '22714': {'description': 'CARD BIRTHDAY COWBOY'},\n '22812': {'description': 'PACK 3 BOXES CHRISTMAS PANETTONE'},\n '84347': {'description': 'ROTATING SILVER ANGELS T-LIGHT HLDR'},\n '22736': {'description': 'RIBBON REEL MAKING SNOWMEN '},\n '22620': {'description': '4 TRADITIONAL SPINNING TOPS'},\n '21705': {'description': 'BAG 500g SWIRLY MARBLES'},\n '90199C': {'description': '5 STRAND GLASS NECKLACE CRYSTAL'},\n '22785': {'description': 'SQUARECUSHION COVER PINK UNION JACK'},\n '22975': {'description': 'SPACEBOY CHILDRENS EGG CUP'},\n '22972': {'description': \"CHILDREN'S SPACEBOY MUG\"},\n '22568': {'description': 'FELTCRAFT CUSHION OWL'},\n '85116': {'description': 'BLACK CANDELABRA T-LIGHT HOLDER'},\n '22664': {'description': 'TOY TIDY DOLLY GIRL DESIGN'},\n '21609': {'description': 'SET 12 LAVENDER  BOTANICAL T-LIGHTS'},\n '21866': {'description': 'UNION JACK FLAG LUGGAGE TAG'},\n '20669': {'description': 'RED HEART LUGGAGE TAG'},\n '90129F': {'description': 'RED GLASS TASSLE BAG CHARM'},\n '90210B': {'description': 'CLEAR ACRYLIC FACETED BANGLE'},\n '21955': {'description': 'DOORMAT UNION JACK GUNS AND ROSES'},\n '72802C': {'description': 'VANILLA SCENT CANDLE JEWELLED BOX'},\n '22109': {'description': 'FULL ENGLISH BREAKFAST PLATE'},\n '22531': {'description': 'MAGIC DRAWING SLATE CIRCUS PARADE  '},\n '21811': {'description': 'HANGING HEART WITH BELL'},\n '22183': {'description': 'CAKE STAND VICTORIAN FILIGREE MED'},\n '21678': {'description': 'PAISLEY PATTERN  STICKERS'},\n '21676': {'description': 'FLOWERS  STICKERS'},\n '85169B': {'description': 'BLACK LOVE BIRD CANDLE'},\n '16238': {'description': 'PARTY TIME PENCIL ERASERS'},\n '84906': {'description': 'PINK BUTTERFLY CUSHION COVER'},\n '21867': {'description': 'PINK UNION JACK  LUGGAGE TAG'},\n '22075': {'description': '6 RIBBONS ELEGANT CHRISTMAS '},\n '21326': {'description': 'AGED GLASS SILVER T-LIGHT HOLDER'},\n '21065': {'description': 'BOOM BOX SPEAKER GIRLS'},\n '22074': {'description': '6 RIBBONS SHIMMERING PINKS '},\n '20713': {'description': 'JUMBO BAG OWLS'},\n '21116': {'description': 'OWL DOORSTOP'},\n '21824': {'description': 'PAINTED METAL STAR WITH HOLLY BELLS'},\n '21823': {'description': 'damaged'},\n '22153': {'description': 'ANGEL DECORATION STARS ON DRESS'},\n '85099F': {'description': 'JUMBO BAG STRAWBERRY'},\n '20717': {'description': 'STRAWBERRY SHOPPER BAG'},\n '22328': {'description': 'ROUND SNACK BOXES SET OF 4 FRUITS '},\n '22327': {'description': 'ROUND SNACK BOXES SET OF 4 SKULLS'},\n '22630': {'description': 'DOLLY GIRL LUNCH BOX'},\n '21245': {'description': 'GREEN POLKADOT PLATE '},\n '21244': {'description': 'BLUE POLKADOT PLATE '},\n '21242': {'description': 'RED RETROSPOT PLATE '},\n '21243': {'description': 'PINK POLKADOT PLATE '},\n '22273': {'description': 'FELTCRAFT DOLL MOLLY'},\n '22940': {'description': 'FELTCRAFT CHRISTMAS FAIRY'},\n '22759': {'description': 'check'},\n '21880': {'description': 'RED RETROSPOT TAPE'},\n '21738': {'description': 'COSY SLIPPER SHOES SMALL  RED '},\n '22077': {'description': '6 RIBBONS RUSTIC CHARM'},\n '21448': {'description': '12 DAISY PEGS IN WOOD BOX'},\n '22243': {'description': '5 HOOK HANGER RED MAGIC TOADSTOOL'},\n '22141': {'description': 'CHRISTMAS CRAFT TREE TOP ANGEL'},\n '22144': {'description': 'CHRISTMAS CRAFT LITTLE FRIENDS'},\n '21739': {'description': 'COSY SLIPPER SHOES SMALL GREEN'},\n '22271': {'description': 'FELTCRAFT DOLL ROSIE'},\n '22274': {'description': 'FELTCRAFT DOLL EMILY'},\n '22751': {'description': 'FELTCRAFT PRINCESS OLIVIA DOLL'},\n '21034': {'description': 'REX CASH+CARRY JUMBO SHOPPER'},\n '22570': {'description': 'FELTCRAFT CUSHION RABBIT'},\n '22569': {'description': 'FELTCRAFT CUSHION BUTTERFLY'},\n '22902': {'description': 'TOTE BAG I LOVE LONDON'},\n '21710': {'description': 'FOLDING UMBRELLA PINKWHITE POLKADOT'},\n '21708': {'description': 'FOLDING UMBRELLA CREAM POLKADOT'},\n '21711': {'description': 'FOLDING UMBRELLA WHITE/RED POLKADOT'},\n '22179': {'description': 'SET 10 NIGHT OWL LIGHTS'},\n '21706': {'description': 'FOLDING UMBRELLA RED/WHITE POLKADOT'},\n '85184C': {'description': 'SET 4 VALENTINE DECOUPAGE HEART BOX'},\n '22988': {'description': 'SOLDIERS EGG CUP '},\n '20750': {'description': 'RED RETROSPOT MINI CASES'},\n '22952': {'description': '60 CAKE CASES VINTAGE CHRISTMAS'},\n '22739': {'description': 'RIBBON REEL CHRISTMAS SOCK BAUBLE'},\n '22738': {'description': 'RIBBON REEL SNOWY VILLAGE'},\n '22909': {'description': 'SET OF 20 VINTAGE CHRISTMAS NAPKINS'},\n '35591T': {'description': 'TURQUOISE CHRISTMAS TREE '},\n '22186': {'description': 'RED STAR CARD HOLDER'},\n '22695': {'description': 'WICKER WREATH SMALL'},\n '22580': {'description': 'ADVENT CALENDAR GINGHAM SACK'},\n '22147': {'description': 'FELTCRAFT BUTTERFLY HEARTS'},\n '22130': {'description': 'PARTY CONE CHRISTMAS DECORATION '},\n '22694': {'description': 'WICKER STAR '},\n '21790': {'description': 'VINTAGE SNAP CARDS'},\n '22149': {'description': 'check'},\n '22321': {'description': 'BIRD DECORATION RED RETROSPOT'},\n '22594': {'description': 'CHRISTMAS GINGHAM TREE'},\n '22593': {'description': 'CHRISTMAS GINGHAM STAR'},\n '22595': {'description': 'GINGHAM HEART DECORATION'},\n '21986': {'description': 'PACK OF 12 PINK POLKADOT TISSUES'},\n '22750': {'description': 'FELTCRAFT PRINCESS LOLA DOLL'},\n '22616': {'description': 'PACK OF 12 LONDON TISSUES '},\n '22775': {'description': 'PURPLE DRAWERKNOB ACRYLIC EDWARDIAN'},\n '22899': {'description': \"CHILDREN'S APRON DOLLY GIRL \"},\n '22367': {'description': 'CHILDRENS APRON SPACEBOY DESIGN'},\n '22942': {'description': 'CHRISTMAS LIGHTS 10 SANTAS '},\n '21976': {'description': 'PACK OF 60 MUSHROOM CAKE CASES'},\n '22951': {'description': '60 CAKE CASES DOLLY GIRL DESIGN'},\n '22834': {'description': 'HAND WARMER BABUSHKA DESIGN'},\n '21916': {'description': 'SET 12 RETRO WHITE CHALK STICKS'},\n '22587': {'description': 'FELTCRAFT HAIRBAND RED AND BLUE'},\n '22566': {'description': 'FELTCRAFT HAIRBAND PINK AND PURPLE'},\n '22565': {'description': 'FELTCRAFT HAIRBANDS PINK AND WHITE '},\n '22472': {'description': 'TV DINNER TRAY DOLLY GIRL'},\n '22551': {'description': 'PLASTERS IN TIN SPACEBOY'},\n '22554': {'description': 'PLASTERS IN TIN WOODLAND ANIMALS'},\n '22534': {'description': 'MAGIC DRAWING SLATE SPACEBOY '},\n '22529': {'description': 'MAGIC DRAWING SLATE GO TO THE FAIR '},\n '22530': {'description': 'MAGIC DRAWING SLATE DOLLY GIRL '},\n '84032B': {'description': 'CHARLIE + LOLA RED HOT WATER BOTTLE'},\n '85049H': {'description': 'URBAN BLACK RIBBONS '},\n '22807': {'description': 'SET OF 6 T-LIGHTS TOADSTOOLS'},\n '21494': {'description': 'ROTATING LEAVES T-LIGHT HOLDER'},\n '22938': {'description': 'CUPCAKE LACE PAPER SET 6'},\n '21892': {'description': 'TRADITIONAL WOODEN CATCH CUP GAME '},\n '21890': {'description': 'S/6 WOODEN SKITTLES IN COTTON BAG'},\n '21718': {'description': 'RED METAL BEACH SPADE '},\n '21716': {'description': 'BOYS VINTAGE TIN SEASIDE BUCKET'},\n '21715': {'description': 'GIRLS VINTAGE TIN SEASIDE BUCKET'},\n '22113': {'description': 'GREY HEART HOT WATER BOTTLE'},\n '22358': {'description': 'KINGS CHOICE TEA CADDY '},\n '22357': {'description': 'KINGS CHOICE BISCUIT TIN'},\n '22115': {'description': 'METAL SIGN EMPIRE TEA'},\n '21481': {'description': 'FAWN BLUE HOT WATER BOTTLE'},\n '22585': {'description': 'PACK OF 6 BIRDY GIFT TAGS'},\n '21556': {'description': 'CERAMIC STRAWBERRY MONEY BOX'},\n '22645': {'description': 'CERAMIC HEART FAIRY CAKE MONEY BANK'},\n '22650': {'description': 'CERAMIC PIRATE CHEST MONEY BANK'},\n '22508': {'description': 'DOORSTOP RETROSPOT HEART'},\n '22511': {'description': 'RETROSPOT BABUSHKA DOORSTOP'},\n '22829': {'description': 'SWEETHEART WIRE WALL TIDY'},\n '21154': {'description': 'RED RETROSPOT OVEN GLOVE '},\n '17021': {'description': 'NAMASTE SWAGAT INCENSE'},\n '22059': {'description': 'CERAMIC STRAWBERRY DESIGN MUG'},\n '84678': {'description': 'CLASSICAL ROSE SMALL VASE'},\n '85172': {'description': 'HYACINTH BULB T-LIGHT CANDLES'},\n '22142': {'description': 'CHRISTMAS CRAFT WHITE FAIRY '},\n '21591': {'description': 'COSY HOUR CIGAR BOX MATCHES '},\n '22480': {'description': 'RED TEA TOWEL CLASSIC DESIGN'},\n '22294': {'description': 'HEART FILIGREE DOVE  SMALL'},\n '21156': {'description': 'RETROSPOT CHILDRENS APRON'},\n '10133': {'description': 'damaged'},\n '72800E': {'description': '4 IVORY DINNER CANDLES SILVER FLOCK'},\n '84836': {'description': 'ZINC METAL HEART DECORATION'},\n '20774': {'description': 'GREEN FERN NOTEBOOK'},\n '20773': {'description': 'BLUE PAISLEY NOTEBOOK'},\n '20777': {'description': 'CHRYSANTHEMUM NOTEBOOK'},\n '16016': {'description': 'LARGE CHINESE STYLE SCISSOR'},\n '16014': {'description': 'SMALL CHINESE STYLE SCISSOR'},\n '21651': {'description': 'HANGING GLASS ETCHED TEALIGHT'},\n '22618': {'description': 'mouldy, unsaleable.'},\n '21586': {'description': 'KINGS CHOICE GIANT TUBE MATCHES'},\n '22152': {'description': 'PLACE SETTING WHITE STAR'},\n '84754': {'description': 'S/15 SILVER GLASS BAUBLES IN BAG'},\n '22670': {'description': 'FRENCH WC SIGN BLUE METAL'},\n '84849B': {'description': 'FAIRY SOAP SOAP HOLDER'},\n '22927': {'description': 'GREEN GIANT GARDEN THERMOMETER'},\n '22925': {'description': 'AMAZON'},\n '21259': {'description': 'VICTORIAN SEWING BOX SMALL '},\n '21257': {'description': 'VICTORIAN SEWING BOX MEDIUM'},\n '21121': {'description': 'SET/10 RED POLKADOT PARTY CANDLES'},\n '82552': {'description': 'WASHROOM METAL SIGN'},\n '90200B': {'description': 'BLACK SWEETHEART BRACELET'},\n '90059B': {'description': 'DIAMANTE HAIR GRIP PACK/2 BLACK DIA'},\n '90185C': {'description': 'BLACK DIAMANTE EXPANDABLE RING'},\n '90059E': {'description': 'DIAMANTE HAIR GRIP PACK/2 RUBY'},\n '90059C': {'description': 'DIAMANTE HAIR GRIP PACK/2 MONTANA'},\n '90200C': {'description': 'BLUE SWEETHEART BRACELET'},\n '90200D': {'description': 'PINK SWEETHEART BRACELET'},\n '90200A': {'description': 'PURPLE SWEETHEART BRACELET'},\n '22737': {'description': 'RIBBON REEL CHRISTMAS PRESENT '},\n '21260': {'description': 'FIRST AID TIN'},\n '22744': {'description': 'MAKE YOUR OWN MONSOON CARD KIT'},\n '21985': {'description': 'PACK OF 12 HEARTS DESIGN TISSUES '},\n '22295': {'description': 'HEART FILIGREE DOVE LARGE'},\n '16258A': {'description': 'SWIRLY CIRCULAR RUBBERS IN BAG'},\n '21992': {'description': 'check'},\n '21124': {'description': 'SET/10 BLUE POLKADOT PARTY CANDLES'},\n '22735': {'description': 'RIBBON REEL SOCKS AND MITTENS'},\n '22945': {'description': 'CHRISTMAS METAL TAGS ASSORTED '},\n '21816': {'description': 'CHRISTMAS TREE T-LIGHT HOLDER'},\n '21815': {'description': 'STAR  T-LIGHT HOLDER '},\n '21814': {'description': 'HEART T-LIGHT HOLDER '},\n '10125': {'description': 'MINI FUNKY DESIGN TAPES'},\n '22573': {'description': 'STAR WOODEN CHRISTMAS DECORATION'},\n '22577': {'description': 'WOODEN HEART CHRISTMAS SCANDINAVIAN'},\n '22603': {'description': 'CHRISTMAS RETROSPOT TREE WOOD'},\n '20878': {'description': 'SET/9 CHRISTMAS T-LIGHTS SCENTED '},\n '20866': {'description': 'BLUE ROSE FABRIC MIRROR'},\n '85095': {'description': 'THREE CANVAS LUGGAGE TAGS'},\n '22333': {'description': 'RETROSPOT PARTY BAG + STICKER SET'},\n '21584': {'description': 'RETROSPOT SMALL TUBE MATCHES'},\n '22731': {'description': '3D CHRISTMAS STAMPS STICKERS '},\n '22956': {'description': '36 FOIL HEART CAKE CASES'},\n '22582': {'description': 'PACK OF 6 SWEETIE GIFT BOXES'},\n '85231B': {'description': 'CINAMMON SET OF 9 T-LIGHTS'},\n '85231G': {'description': 'amazon'},\n '22082': {'description': 'RIBBON REEL STRIPES DESIGN '},\n '22500': {'description': 'SET OF 2 TINS JARDIN DE PROVENCE'},\n '22742': {'description': 'MAKE YOUR OWN PLAYTIME CARD KIT'},\n '21329': {'description': 'DINOSAURS  WRITING SET '},\n '21327': {'description': 'SKULLS WRITING SET '},\n '48173C': {'description': 'DOORMAT BLACK FLOCK '},\n '72818': {'description': 'check'},\n '22312': {'description': 'OFFICE MUG WARMER POLKADOT'},\n '21137': {'description': 'BLACK RECORD COVER FRAME'},\n '22041': {'description': 'RECORD FRAME 7\" SINGLE SIZE '},\n '20979': {'description': '36 PENCILS TUBE RED RETROSPOT'},\n '20977': {'description': '36 PENCILS TUBE WOODLAND'},\n '22571': {'description': 'ROCKING HORSE RED CHRISTMAS '},\n '22423': {'description': 'REGENCY CAKESTAND 3 TIER'},\n '21621': {'description': 'VINTAGE UNION JACK BUNTING'},\n '47563A': {'description': 'RETRO LONGBOARD IRONING BOARD COVER'},\n '84558A': {'description': '3D DOG PICTURE PLAYING CARDS'},\n '21577': {'description': 'SAVE THE PLANET COTTON TOTE BAG'},\n '22087': {'description': 'PAPER BUNTING WHITE LACE'},\n '22651': {'description': 'GENTLEMAN SHIRT REPAIR KIT '},\n '22713': {'description': 'CARD I LOVE LONDON '},\n '21370': {'description': 'MIRRORED WALL ART FOXY'},\n '21367': {'description': 'MIRRORED WALL ART GENTS'},\n '22376': {'description': 'AIRLINE BAG VINTAGE JET SET WHITE'},\n '21895': {'description': \"POTTING SHED SOW 'N' GROW SET\"},\n '22372': {'description': 'AIRLINE BAG VINTAGE WORLD CHAMPION '},\n '21190': {'description': 'PINK HEARTS PAPER GARLAND'},\n '21894': {'description': 'POTTING SHED SEED ENVELOPES'},\n '70007': {'description': 'HI TEC ALPINE HAND WARMER'},\n '46000M': {'description': 'POLYESTER FILLER PAD 45x45cm'},\n '22712': {'description': 'CARD DOLLY GIRL '},\n '22983': {'description': 'CARD BILLBOARD FONT'},\n '22024': {'description': 'RAINY LADIES BIRTHDAY CARD'},\n '21488': {'description': 'RED WHITE SCARF  HOT WATER BOTTLE'},\n '22895': {'description': 'SET OF 2 TEA TOWELS APPLE AND PEARS'},\n '22784': {'description': 'LANTERN CREAM GAZEBO '},\n '21441': {'description': 'BLUE BIRDHOUSE DECORATION'},\n '84947': {'description': 'ANTIQUE SILVER TEA GLASS ENGRAVED'},\n '22485': {'description': 'SET OF 2 WOODEN MARKET CRATES'},\n '21794': {'description': 'adjustment'},\n '20707': {'description': 'CRAZY DAISY HEART DECORATION'},\n '22588': {'description': 'CARD HOLDER GINGHAM HEART'},\n '21292': {'description': 'SMALL STRIPES CHOCOLATE GIFT BAG '},\n '22760': {'description': 'TRAY, BREAKFAST IN BED'},\n '22107': {'description': 'PIZZA PLATE IN BOX'},\n '21486': {'description': 'PINK HEART DOTS HOT WATER BOTTLE'},\n '22151': {'description': 'PLACE SETTING WHITE HEART'},\n '22643': {'description': 'SET OF 4 NAPKIN CHARMS LEAVES   '},\n '22642': {'description': 'SET OF 4 NAPKIN CHARMS STARS   '},\n '22604': {'description': 'SET OF 4 NAPKIN CHARMS CUTLERY'},\n '22099': {'description': 'CARAVAN SQUARE TISSUE BOX'},\n '22653': {'description': 'BUTTON BOX '},\n '22906': {'description': '12 MESSAGE CARDS WITH ENVELOPES'},\n '22754': {'description': 'SMALL RED BABUSHKA NOTEBOOK '},\n '22919': {'description': 'HERB MARKER MINT'},\n '22917': {'description': 'HERB MARKER ROSEMARY'},\n '22920': {'description': 'HERB MARKER BASIL'},\n '22921': {'description': 'HERB MARKER CHIVES '},\n '22918': {'description': 'HERB MARKER PARSLEY'},\n '22916': {'description': 'HERB MARKER THYME'},\n '22575': {'description': 'METAL MERRY CHRISTMAS WREATH'},\n '21804': {'description': 'dotcom'},\n '21588': {'description': 'RETROSPOT GIANT TUBE MATCHES'},\n '22955': {'description': '36 FOIL STAR CAKE CASES '},\n '22583': {'description': 'PACK OF 6 HANDBAG GIFT BOXES'},\n '22241': {'description': 'GARLAND WOODEN HAPPY EASTER'},\n '22904': {'description': 'CALENDAR PAPER CUT DESIGN'},\n '22905': {'description': 'CALENDAR IN SEASON DESIGN'},\n '22092': {'description': 'BLUE PAISLEY TISSUE BOX'},\n '22096': {'description': 'PINK PAISLEY SQUARE TISSUE BOX '},\n '21358': {'description': 'TOAST ITS - HAPPY BIRTHDAY'},\n '21123': {'description': 'SET/10 IVORY POLKADOT PARTY CANDLES'},\n '21427': {'description': 'SKULLS STORAGE BOX SMALL'},\n '21930': {'description': 'JUMBO STORAGE BAG SKULLS'},\n '20772': {'description': 'GARDEN PATH JOURNAL'},\n '71406C': {'description': 'BLACK ORANGE SQUEEZER'},\n '84985A': {'description': 'SET OF 72 GREEN PAPER DOILIES'},\n '20754': {'description': 'RETROSPOT RED WASHING UP GLOVES'},\n '84596E': {'description': 'SMALL LICORICE DES PINK BOWL'},\n '21111': {'description': 'SWISS ROLL TOWEL, CHOCOLATE  SPOTS'},\n '22501': {'description': 'PICNIC BASKET WICKER LARGE'},\n '22854': {'description': 'CREAM SWEETHEART EGG HOLDER'},\n '84997D': {'description': 'CHILDRENS CUTLERY POLKADOT PINK'},\n '47599A': {'description': 'PINK PARTY BAGS'},\n '47599B': {'description': 'BLUE PARTY BAGS '},\n '20972': {'description': 'PINK CREAM FELT CRAFT TRINKET BOX '},\n '21041': {'description': 'RED RETROSPOT OVEN GLOVE DOUBLE'},\n '21664': {'description': 'RIDGED GLASS STORAGE JAR CREAM LID'},\n '22907': {'description': 'PACK OF 20 NAPKINS PANTRY DESIGN'},\n '22776': {'description': 'SWEETHEART 3 TIER CAKE STAND '},\n '21810': {'description': 'CHRISTMAS HANGING STAR WITH BELL'},\n '21197': {'description': 'MULTICOLOUR  CONFETTI IN TUBE'},\n '85035B': {'description': 'check'},\n '84968C': {'description': 'SET OF 16 VINTAGE PISTACHIO CUTLERY'},\n '21098': {'description': 'CHRISTMAS TOILET ROLL'},\n '21192': {'description': 'WHITE BELL HONEYCOMB PAPER '},\n '72800B': {'description': ' 4 PURPLE FLOCK DINNER CANDLES'},\n '84563A': {'description': 'damaged'},\n '47504H': {'description': 'ENGLISH ROSE SPIRIT LEVEL '},\n '21742': {'description': 'LARGE ROUND WICKER PLATTER '},\n '22481': {'description': 'BLACK TEA TOWEL CLASSIC DESIGN'},\n '22943': {'description': 'CHRISTMAS LIGHTS 10 VINTAGE BAUBLES'},\n '22699': {'description': 'ROSES REGENCY TEACUP AND SAUCER '},\n '22217': {'description': 'T-LIGHT HOLDER HANGING LACE'},\n '22227': {'description': 'HANGING HEART MIRROR DECORATION '},\n '21106': {'description': 'CREAM SLICE FLANNEL CHOCOLATE SPOT '},\n '21107': {'description': 'CREAM SLICE FLANNEL PINK SPOT '},\n '22697': {'description': 'GREEN REGENCY TEACUP AND SAUCER'},\n '21826': {'description': 'EIGHT PIECE DINOSAUR SET'},\n '22548': {'description': 'adjustment'},\n '17164B': {'description': \"ASS COL SMALL SAND GECKO P'WEIGHT\"},\n '22429': {'description': 'ENAMEL MEASURING JUG CREAM'},\n '20974': {'description': '12 PENCILS SMALL TUBE SKULL'},\n '20973': {'description': '12 PENCIL SMALL TUBE WOODLAND'},\n '15044B': {'description': 'BLUE PAPER PARASOL '},\n '21135': {'description': 'VICTORIAN  METAL POSTCARD SPRING'},\n '22173': {'description': 'METAL 4 HOOK HANGER FRENCH CHATEAU'},\n '22626': {'description': 'BLACK KITCHEN SCALES'},\n '22625': {'description': 'RED KITCHEN SCALES'},\n '22624': {'description': 'IVORY KITCHEN SCALES'},\n '84945': {'description': 'MULTI COLOUR SILVER T-LIGHT HOLDER'},\n '22244': {'description': '3 HOOK HANGER MAGIC GARDEN'},\n '47421': {'description': 'ASSORTED COLOUR LIZARD SUCTION HOOK'},\n '20712': {'description': 'JUMBO BAG WOODLAND ANIMALS'},\n '22973': {'description': \"CHILDREN'S CIRCUS PARADE MUG\"},\n '84569B': {'description': 'PACK 3 FIRE ENGINE/CAR PATCHES'},\n '22815': {'description': 'CARD PSYCHEDELIC APPLES'},\n '85114B': {'description': 'IVORY ENCHANTED FOREST PLACEMAT'},\n '22584': {'description': 'PACK OF 6 PANETTONE GIFT BOXES'},\n '22454': {'description': 'MEASURING TAPE BABUSHKA RED'},\n '85114C': {'description': 'RED ENCHANTED FOREST PLACEMAT'},\n '22974': {'description': 'CHILDRENS DOLLY GIRL MUG'},\n '21452': {'description': 'TOADSTOOL MONEY BOX'},\n '22743': {'description': 'MAKE YOUR OWN FLOWERPOWER CARD KIT'},\n '22911': {'description': 'PAPER CHAIN KIT LONDON'},\n '22453': {'description': 'MEASURING TAPE BABUSHKA BLUE'},\n '22445': {'description': 'PENCIL CASE LIFE IS BEAUTIFUL'},\n '22607': {'description': 'WOODEN ROUNDERS GARDEN SET '},\n '22635': {'description': 'CHILDS BREAKFAST SET DOLLY GIRL '},\n '22634': {'description': 'CHILDS BREAKFAST SET SPACEBOY '},\n '22222': {'description': 'CAKE PLATE LOVEBIRD WHITE'},\n '22947': {'description': 'WOODEN ADVENT CALENDAR RED'},\n '22187': {'description': 'GREEN CHRISTMAS TREE CARD HOLDER'},\n '22164': {'description': 'STRING OF STARS CARD HOLDER'},\n '72598': {'description': 'SET/12 TAPER CANDLES'},\n '22627': {'description': 'MINT KITCHEN SCALES'},\n '22487': {'description': 'WHITE WOOD GARDEN PLANT LADDER'},\n '22360': {'description': 'GLASS JAR ENGLISH CONFECTIONERY'},\n '22364': {'description': 'GLASS JAR DIGESTIVE BISCUITS'},\n '21657': {'description': 'MILK BOTTLE WITH GLASS STOPPER '},\n '22120': {'description': 'WELCOME  WOODEN BLOCK LETTERS'},\n '21038': {'description': 'SET/4 MODERN VINTAGE COTTON NAPKINS'},\n '21625': {'description': 'VINTAGE UNION JACK APRON'},\n '22097': {'description': 'SWALLOW SQUARE TISSUE BOX'},\n '21179': {'description': 'damaged'},\n '22185': {'description': 'SLATE TILE NATURAL HANGING'},\n '21662': {'description': 'VINTAGE GLASS COFFEE CADDY'},\n '85104': {'description': '????damages????'},\n '21654': {'description': 'Damaged'},\n '21658': {'description': 'GLASS  BEURRE DISH'},\n '21519': {'description': 'GIN & TONIC DIET GREETING CARD '},\n '22819': {'description': 'BIRTHDAY CARD, RETRO SPOT'},\n '22704': {'description': 'WRAP RED APPLES '},\n '21498': {'description': 'RED RETROSPOT WRAP '},\n '22049': {'description': 'damaged'},\n '21497': {'description': 'FANCY FONTS BIRTHDAY WRAP'},\n '21333': {'description': 'CLASSIC WHITE FRAME'},\n '22194': {'description': 'BLACK DINER WALL CLOCK'},\n '22688': {'description': 'DOORMAT PEACE ON EARTH BLUE'},\n '84692': {'description': 'BOX OF 24 COCKTAIL PARASOLS'},\n '22444': {'description': 'GROW YOUR OWN PLANT IN A CAN '},\n '22555': {'description': 'PLASTERS IN TIN STRONGMAN'},\n '22547': {'description': 'MINI JIGSAW DINOSAUR '},\n '22543': {'description': 'MINI JIGSAW BAKE A CAKE '},\n '22539': {'description': 'MINI JIGSAW DOLLY GIRL'},\n '22561': {'description': 'WOODEN SCHOOL COLOURING SET'},\n '22489': {'description': 'PACK OF 12 TRADITIONAL CRAYONS'},\n '22814': {'description': 'CARD PARTY GAMES '},\n '21520': {'description': 'BOOZE & WOMEN GREETING CARD '},\n '21982': {'description': 'PACK OF 12 SUKI TISSUES '},\n '21981': {'description': 'PACK OF 12 WOODLAND TISSUES '},\n '21967': {'description': 'PACK OF 12 SKULL TISSUES'},\n '22615': {'description': 'PACK OF 12 CIRCUS PARADE TISSUES '},\n '22614': {'description': 'PACK OF 12 SPACEBOY TISSUES'},\n '22095': {'description': 'LADS ONLY TISSUE BOX'},\n '22094': {'description': 'RED RETROSPOT TISSUE BOX'},\n '22966': {'description': 'GINGERBREAD MAN COOKIE CUTTER'},\n '21874': {'description': 'GIN AND TONIC MUG'},\n '21873': {'description': \"IF YOU CAN'T STAND THE HEAT MUG\"},\n '21870': {'description': 'I CAN ONLY PLEASE ONE PERSON MUG'},\n '84050': {'description': 'check'},\n '22315': {'description': '200 RED + WHITE BENDY STRAWS'},\n '22667': {'description': 'RECIPE BOX RETROSPOT '},\n '22666': {'description': 'RECIPE BOX PANTRY YELLOW DESIGN'},\n '22665': {'description': 'RECIPE BOX BLUE SKETCHBOOK DESIGN'},\n '22567': {'description': '20 DOLLY PEGS RETROSPOT'},\n '82600': {'description': 'N0 SINGING METAL SIGN'},\n '22842': {'description': 'BISCUIT TIN VINTAGE RED'},\n '22494': {'description': 'EMERGENCY FIRST AID TIN '},\n '22740': {'description': 'adjustment'},\n '22825': {'description': 'DECORATIVE PLANT POT WITH FRIEZE'},\n '22680': {'description': 'FRENCH BLUE METAL DOOR SIGN 5'},\n '22797': {'description': 'CHEST OF DRAWERS GINGHAM HEART '},\n '21843': {'description': 'RED RETROSPOT CAKE STAND'},\n '22118': {'description': 'JOY WOODEN BLOCK LETTERS'},\n '22121': {'description': 'NOEL WOODEN BLOCK LETTERS '},\n '22119': {'description': 'PEACE WOODEN BLOCK LETTERS'},\n '22311': {'description': 'OFFICE MUG WARMER BLACK+SILVER '},\n '72817': {'description': 'SET OF 2 CHRISTMAS DECOUPAGE CANDLE'},\n '22277': {'description': 'COSMETIC BAG VINTAGE ROSE PAISLEY'},\n '20867': {'description': 'PINK ROSE FABRIC MIRROR'},\n '21688': {'description': 'mixed up'},\n '21694': {'description': 'SMALL REGAL  SILVER CANDLEPOT '},\n '22800': {'description': 'ANTIQUE TALL SWIRLGLASS TRINKET POT'},\n '22801': {'description': 'ANTIQUE GLASS PEDESTAL BOWL'},\n '22781': {'description': 'GUMBALL MAGAZINE RACK'},\n '21466': {'description': 'RED FLOWER CROCHET FOOD COVER'},\n '21467': {'description': 'CHERRY CROCHET FOOD COVER'},\n '21471': {'description': 'STRAWBERRY RAFFIA FOOD COVER'},\n '21469': {'description': 'POLKA DOT RAFFIA FOOD COVER'},\n '21524': {'description': 'DOORMAT SPOTTY HOME SWEET HOME'},\n '22791': {'description': 'T-LIGHT GLASS FLUTED ANTIQUE'},\n '21690': {'description': 'SILVER  CANDLEPOT JARDIN '},\n '37343': {'description': 'damaged'},\n '22088': {'description': 'PAPER BUNTING COLOURED LACE'},\n '21143': {'description': 'ANTIQUE GLASS HEART DECORATION '},\n '84944': {'description': 'SET OF 6 KASHMIR FOLKART BAUBLES'},\n '22601': {'description': 'CHRISTMAS RETROSPOT ANGEL WOOD'},\n '22600': {'description': 'CHRISTMAS RETROSPOT STAR WOOD'},\n '22574': {'description': 'HEART WOODEN CHRISTMAS DECORATION'},\n '85199L': {'description': 'LARGE HANGING IVORY & RED WOOD BIRD'},\n '85199S': {'description': 'SMALL HANGING IVORY/RED WOOD BIRD'},\n '72741': {'description': 'GRAND CHOCOLATECANDLE'},\n '37495': {'description': 'FAIRY CAKE BIRTHDAY CANDLE SET'},\n '22171': {'description': '3 HOOK PHOTO SHELF ANTIQUE WHITE'},\n '85067': {'description': 'CREAM SWEETHEART WALL CABINET'},\n '48184': {'description': 'DOORMAT ENGLISH ROSE '},\n '48138': {'description': 'DOORMAT UNION FLAG'},\n '85019A': {'description': 'ROMANTIC IMAGES NOTEBOOK SET'},\n '85019C': {'description': 'Damaged'},\n '20902': {'description': 'check'},\n '21429': {'description': 'RED GINGHAM ROSE JEWELLERY BOX'},\n '85071A': {'description': 'BLUE CHARLIE+LOLA PERSONAL DOORSIGN'},\n '85071C': {'description': 'CHARLIE+LOLA\"EXTREMELY BUSY\" SIGN'},\n '22355': {'description': 'CHARLOTTE BAG SUKI DESIGN'},\n '21579': {'description': 'LOLITA  DESIGN  COTTON TOTE BAG'},\n '21576': {'description': 'LETS GO SHOPPING COTTON TOTE BAG'},\n '22493': {'description': 'PAINT YOUR OWN CANVAS SET'},\n '21833': {'description': 'CAMOUFLAGE LED TORCH'},\n '85135B': {'description': 'BLUE DRAGONFLY HELICOPTER'},\n '85136A': {'description': 'YELLOW SHARK HELICOPTER'},\n '85136C': {'description': 'RED SHARK HELICOPTER'},\n '21055': {'description': 'TOOL BOX SOFT TOY '},\n '21056': {'description': \"DOCTOR'S BAG SOFT TOY\"},\n 'C2': {'description': 'CARRIAGE'},\n '21928': {'description': 'JUMBO BAG SCANDINAVIAN BLUE PAISLEY'},\n '20711': {'description': 'JUMBO BAG TOYS '},\n '21773': {'description': 'DECORATIVE ROSE BATHROOM BOTTLE'},\n '21774': {'description': 'DECORATIVE CATS BATHROOM BOTTLE'},\n '21787': {'description': 'RAIN PONCHO RETROSPOT'},\n '21801': {'description': 'CHRISTMAS TREE DECORATION WITH BELL'},\n '21802': {'description': 'CHRISTMAS TREE HEART DECORATION'},\n '21803': {'description': 'CHRISTMAS TREE STAR DECORATION'},\n '21809': {'description': 'CHRISTMAS HANGING TREE WITH BELL'},\n '21821': {'description': 'GLITTER STAR GARLAND WITH BELLS '},\n '21822': {'description': 'GLITTER CHRISTMAS TREE WITH BELLS'},\n '21851': {'description': 'LILAC DIAMANTE PEN IN GIFT BOX'},\n '21879': {'description': 'HEARTS GIFT TAPE'},\n '21884': {'description': 'CAKES AND BOWS GIFT  TAPE'},\n '21888': {'description': 'BINGO SET'},\n '21911': {'description': 'GARDEN METAL SIGN '},\n '21922': {'description': 'UNION STRIPE WITH FRINGE  HAMMOCK'},\n '21935': {'description': 'SUKI  SHOULDER BAG'},\n '21942': {'description': 'SKULLS DESIGN FLANNEL'},\n '21944': {'description': 'KITTENS DESIGN FLANNEL'},\n '21949': {'description': 'SET OF 6 STRAWBERRY CHOPSTICKS'},\n '21990': {'description': 'MODERN FLORAL STATIONERY SET'},\n '21991': {'description': 'BOHEMIAN COLLAGE STATIONERY SET'},\n '21993': {'description': 'FLORAL FOLK STATIONERY SET'},\n '22037': {'description': 'ROBOT BIRTHDAY CARD'},\n '22043': {'description': 'dotcom'},\n '22065': {'description': 'CHRISTMAS PUDDING TRINKET POT '},\n '22067': {'description': 'CHOC TRUFFLE GOLD TRINKET POT '},\n '22069': {'description': 'BROWN  PIRATE TREASURE CHEST '},\n '22071': {'description': 'SMALL WHITE RETROSPOT MUG IN BOX '},\n '22076': {'description': '6 RIBBONS EMPIRE  '},\n '22080': {'description': 'RIBBON REEL POLKADOTS '},\n '22081': {'description': 'RIBBON REEL FLORA + FAUNA '},\n '22090': {'description': 'PAPER BUNTING RETROSPOT'},\n '22134': {'description': 'MINI LADLE LOVE HEART RED '},\n '22135': {'description': 'MINI LADLE LOVE HEART PINK'},\n '22154': {'description': 'ANGEL DECORATION 3 BUTTONS '},\n '22155': {'description': 'STAR DECORATION RUSTIC'},\n '22156': {'description': 'HEART DECORATION WITH PEARLS '},\n '22161': {'description': 'HEART DECORATION RUSTIC HANGING '},\n '22162': {'description': 'HEART GARLAND RUSTIC PADDED'},\n '22169': {'description': 'FAMILY ALBUM WHITE PICTURE FRAME'},\n '22182': {'description': 'CAKE STAND VICTORIAN FILIGREE SMALL'},\n '22190': {'description': 'LOCAL CAFE MUG'},\n '22203': {'description': 'MILK PAN RED RETROSPOT'},\n '22207': {'description': 'FRYING PAN UNION FLAG'},\n '22265': {'description': 'EASTER DECORATION NATURAL CHICK'},\n '22276': {'description': 'WASH BAG VINTAGE ROSE PAISLEY'},\n '22299': {'description': 'PIG KEYRING WITH LIGHT & SOUND '},\n '22300': {'description': 'COFFEE MUG DOG + BALL DESIGN'},\n '22301': {'description': 'COFFEE MUG CAT + BIRD DESIGN'},\n '22309': {'description': 'TEA COSY RED  STRIPE'},\n '22314': {'description': 'OFFICE MUG WARMER CHOC+BLUE'},\n '22335': {'description': 'HEART DECORATION PAINTED ZINC '},\n '22336': {'description': 'damaged'},\n '22345': {'description': 'PARTY PIZZA DISH BLUE POLKADOT'},\n '22348': {'description': 'TEA BAG PLATE RED RETROSPOT'},\n '22356': {'description': 'CHARLOTTE BAG PINK POLKADOT'},\n '22359': {'description': 'GLASS JAR KINGS CHOICE'},\n '22361': {'description': 'GLASS JAR DAISY FRESH COTTON WOOL'},\n '22375': {'description': 'AIRLINE BAG VINTAGE JET SET BROWN'},\n '22378': {'description': 'WALL TIDY RETROSPOT '},\n '22380': {'description': 'TOY TIDY SPACEBOY  '},\n '22394': {'description': 'PAPERWEIGHT KINGS CHOICE '},\n '22396': {'description': 'MAGNETS PACK OF 4 RETRO PHOTO'},\n '22419': {'description': 'LIPSTICK PEN RED'},\n '22422': {'description': 'TOOTHPASTE TUBE PEN'},\n '22430': {'description': 'ENAMEL WATERING CAN CREAM'},\n '22432': {'description': 'WATERING CAN PINK BUNNY'},\n '22437': {'description': 'SET OF 9 BLACK SKULL BALLOONS'},\n '22471': {'description': 'TV DINNER TRAY AIR HOSTESS '},\n '22476': {'description': 'EMPIRE UNION JACK TV DINNER TRAY'},\n '22477': {'description': 'WATERING CAN GARDEN MARKER'},\n '22478': {'description': 'BIRDHOUSE GARDEN MARKER '},\n '22479': {'description': 'DAISY GARDEN MARKER'},\n '22497': {'description': 'SET OF 2 TINS VINTAGE BATHROOM '},\n '22515': {'description': 'CHILDS GARDEN SPADE PINK'},\n '22517': {'description': 'CHILDS GARDEN RAKE PINK'},\n '22519': {'description': 'CHILDS GARDEN BRUSH PINK'},\n '22545': {'description': 'MINI JIGSAW BUNNIES'},\n '22550': {'description': 'HOLIDAY FUN LUDO'},\n '22560': {'description': 'TRADITIONAL MODELLING CLAY'},\n '22589': {'description': 'CARDHOLDER GINGHAM STAR'},\n '22605': {'description': 'WOODEN CROQUET GARDEN SET'},\n '22639': {'description': 'SET OF 4 NAPKIN CHARMS HEARTS'},\n '22669': {'description': 'RED BABY BUNTING '},\n '22675': {'description': 'FRENCH KITCHEN SIGN BLUE METAL'},\n '22734': {'description': 'SET OF 6 RIBBONS VINTAGE CHRISTMAS'},\n '22741': {'description': 'FUNKY DIVA PEN'},\n '22755': {'description': 'SMALL PURPLE BABUSHKA NOTEBOOK '},\n '22757': {'description': 'LARGE RED BABUSHKA NOTEBOOK '},\n '22758': {'description': 'LARGE PURPLE BABUSHKA NOTEBOOK  '},\n '22769': {'description': 'CHALKBOARD KITCHEN ORGANISER'},\n '22792': {'description': 'FLUTED ANTIQUE CANDLE HOLDER'},\n '22816': {'description': 'CARD MOTORBIKE SANTA'},\n '22818': {'description': 'CARD CHRISTMAS VILLAGE'},\n '22822': {'description': 'CREAM WALL PLANTER HEART SHAPED'},\n '22844': {'description': 'VINTAGE CREAM DOG FOOD CONTAINER'},\n '22847': {'description': 'BREAD BIN DINER STYLE IVORY'},\n '22862': {'description': 'LOVE HEART NAPKIN BOX '},\n '22876': {'description': 'NUMBER TILE COTTAGE GARDEN 8'},\n '22928': {'description': 'YELLOW GIANT GARDEN THERMOMETER'},\n '22948': {'description': 'METAL DECORATION NAUGHTY CHILDREN '},\n '22949': {'description': 'SET OF 36 DOLLY GIRL PAPER DOILIES'},\n '22976': {'description': 'CIRCUS PARADE CHILDRENS EGG CUP '},\n '35095A': {'description': 'BLUE VICTORIAN FABRIC OVAL BOX'},\n '35095B': {'description': 'RED VICTORIAN FABRIC OVAL BOX'},\n '35471D': {'description': 'SET OF 3 BIRD LIGHT PINK FEATHER '},\n '35598D': {'description': 'PINK/WHITE CHRISTMAS TREE 60CM'},\n '35599D': {'description': 'PINK AND WHITE CHRISTMAS TREE 120CM'},\n '35610A': {'description': 'thrown away'},\n '35818P': {'description': 'ACRYLIC JEWEL ICICLE, PINK'},\n '35957': {'description': 'SMALLFOLKART BAUBLE CHRISTMAS DEC'},\n '35961': {'description': 'FOLKART ZINC HEART CHRISTMAS DEC'},\n '35971': {'description': 'ROSE FOLKART HEART DECORATIONS'},\n '37449': {'description': 'CERAMIC CAKE STAND + HANGING CAKES'},\n '37476': {'description': 'CONDIMENT TRAY 4 BOWLS AND 4 SPOONS'},\n '47559B': {'description': 'TEA TIME OVEN GLOVE'},\n '47591B': {'description': 'SCOTTIES CHILDRENS APRON'},\n '47591D': {'description': 'PINK FAIRY CAKE CHILDRENS APRON'},\n '47593B': {'description': 'SCOTTIE DOGS BABY BIB'},\n '48188': {'description': 'DOORMAT WELCOME PUPPIES'},\n '71459': {'description': 'HANGING JAM JAR T-LIGHT HOLDERS'},\n '72586': {'description': 'SET OF 6 HALLOWEEN GHOST T-LIGHTS'},\n '72799E': {'description': 'IVORY PILLAR CANDLE SILVER FLOCK'},\n '72799F': {'description': 'IVORY PILLAR CANDLE GOLD FLOCK'},\n '72807A': {'description': 'AMAZON'},\n '72807B': {'description': '????missing'},\n '72807C': {'description': 'SET/3 VANILLA SCENTED CANDLE IN BOX'},\n '72816': {'description': 'SET/3 CHRISTMAS DECOUPAGE CANDLES'},\n '79030D': {'description': 'TUMBLER BAROQUE'},\n '79030G': {'description': 'TUMBLER NEW ENGLAND'},\n '82551': {'description': 'LAUNDRY 15C METAL SIGN'},\n '82583': {'description': 'HOT BATHS METAL SIGN'},\n '82613B': {'description': 'METAL SIGN,CUPCAKE SINGLE HOOK'},\n '82613C': {'description': 'METAL SIGN,CUPCAKE SINGLE HOOK'},\n '82613D': {'description': 'METAL SIGN CUPCAKE SINGLE HOOK'},\n '84031A': {'description': 'CHARLIE+LOLA RED HOT WATER BOTTLE '},\n '84031B': {'description': 'CHARLIE LOLA BLUE HOT WATER BOTTLE '},\n '84032A': {'description': 'CHARLIE+LOLA PINK HOT WATER BOTTLE'},\n '84086C': {'description': 'PINK/PURPLE RETRO RADIO'},\n '84279P': {'description': 'CHERRY BLOSSOM  DECORATIVE FLASK'},\n '85015': {'description': 'SET OF 12  VINTAGE POSTCARD SET'},\n '85016': {'description': 'SET OF 6 VINTAGE NOTELETS KIT'},\n '85017A': {'description': 'ENVELOPE 50 ROMANTIC IMAGES'},\n '85017B': {'description': 'ENVELOPE 50 BLOSSOM IMAGES'},\n '85032D': {'description': 'damaged'},\n '85039A': {'description': 'SET/4 RED MINI ROSE CANDLE IN BOWL'},\n '85048': {'description': '15CM CHRISTMAS GLASS BALL 20 LIGHTS'},\n '85064': {'description': 'CREAM SWEETHEART LETTER RACK'},\n '85127': {'description': 'SMALL SQUARE CUT GLASS CANDLESTICK'},\n '85129D': {'description': 'BEADED CRYSTAL HEART PINK SMALL'},\n '85131B': {'description': 'BEADED CRYSTAL HEART GREEN ON STICK'},\n '85132A': {'description': 'damaged'},\n '85135C': {'description': 'RED DRAGONFLY HELICOPTER'},\n '85176': {'description': 'SEWING SUSAN 21 NEEDLE SET'},\n '85177': {'description': 'BASKET OF FLOWERS SEWING KIT'},\n '85178': {'description': 'VICTORIAN SEWING KIT'},\n '85186A': {'description': 'EASTER BUNNY GARLAND OF FLOWERS'},\n '85232B': {'description': 'SET OF 3 BABUSHKA STACKING TINS'},\n '90003C': {'description': 'MIDNIGHT BLUE PAIR HEART HAIR SLIDE'},\n '90018A': {'description': 'SILVER M.O.P ORBIT DROP EARRINGS'},\n '90022': {'description': 'EDWARDIAN DROP EARRINGS JET BLACK'},\n '90071': {'description': 'RUBY GLASS CLUSTER EARRINGS'},\n '90099': {'description': 'NECKLACE+BRACELET SET BLUE HIBISCUS'},\n '90116': {'description': 'FRUIT SALAD BAG CHARM'},\n '90120C': {'description': 'GREEN MURANO TWIST BRACELET'},\n '90129A': {'description': 'PINK GLASS TASSLE BAG CHARM '},\n '90129B': {'description': 'TURQUOISE GLASS TASSLE BAG CHARM '},\n '90161A': {'description': 'ANT COPPER RED BOUDICCA BRACELET'},\n '90190C': {'description': 'SILVER/AMETHYST DROP EARRINGS LEAF'},\n '90194': {'description': 'SILVER LARIAT BLACK STONE EARRINGS'},\n '90209B': {'description': 'GREEN ENAMEL+GLASS HAIR COMB'},\n '90214D': {'description': 'LETTER \"D\" BLING KEY RING'},\n '90214G': {'description': 'LETTER \"G\" BLING KEY RING'},\n '90214H': {'description': 'LETTER \"H\" BLING KEY RING'},\n '90214J': {'description': 'LETTER \"J\" BLING KEY RING'},\n '90214R': {'description': 'LETTER \"R\" BLING KEY RING'},\n 'DOT': {'description': 'DOTCOM POSTAGE'},\n '84534B': {'description': 'FAIRY CAKE NOTEBOOK A5 SIZE'},\n '84535B': {'description': 'FAIRY CAKES NOTEBOOK A6 SIZE'},\n '84536A': {'description': 'ENGLISH ROSE NOTEBOOK A7 SIZE'},\n '84536B': {'description': 'FAIRY CAKES NOTEBOOK A7 SIZE'},\n '84580': {'description': 'MOUSE TOY WITH PINK T-SHIRT'},\n '84581': {'description': 'DOG TOY WITH PINK CROCHET SKIRT'},\n '84598': {'description': 'BOYS ALPHABET IRON ON PATCHES'},\n '84912B': {'description': 'GREEN ROSE WASHBAG'},\n '84913A': {'description': 'SOFT PINK ROSE TOWEL '},\n '84913B': {'description': 'MINT GREEN ROSE TOWEL'},\n '84923': {'description': 'PINK BUTTERFLY HANDBAG W BOBBLES'},\n '84946': {'description': 'ANTIQUE SILVER T-LIGHT GLASS'},\n '84988': {'description': 'SET OF 72 PINK HEART PAPER DOILIES'},\n '20856': {'description': '??'},\n '20854': {'description': 'BLUE PATCH PURSE PINK HEART'},\n '21218': {'description': 'RED SPOTTY BISCUIT TIN'},\n '22845': {'description': 'VINTAGE CREAM CAT FOOD CONTAINER'},\n '11001': {'description': 'ASSTD DESIGN RACING CAR PEN'},\n '16236': {'description': 'KITTY PENCIL ERASERS'},\n '17003': {'description': 'BROCADE RING PURSE '},\n '17011F': {'description': 'ORIGAMI SANDLEWOOD INCENSE+FLOWER'},\n '17012A': {'description': 'ORIGAMI VANILLA INCENSE/CANDLE SET '},\n '17012B': {'description': 'ORIGAMI JASMINE INCENSE/CANDLE SET'},\n '17012C': {'description': 'ORIGAMI LAVENDER INCENSE/CANDL SET '},\n '17012D': {'description': 'ORIGAMI ROSE INCENSE/CANDLE SET '},\n '17012E': {'description': 'ORIGAMI OPIUM INCENSE/CANDLE SET '},\n '17012F': {'description': 'ORIGAMI SANDLEWOOD INCENSE/CAND SET'},\n '17129F': {'description': 'BLUE GLASS GEMS IN BAG'},\n '18098C': {'description': 'PORCELAIN BUTTERFLY OIL BURNER'},\n '20622': {'description': 'VIP PASSPORT COVER '},\n '20658': {'description': 'RED RETROSPOT LUGGAGE TAG'},\n '20662': {'description': 'FIRST CLASS HOLIDAY PURSE '},\n '20676': {'description': 'RED RETROSPOT BOWL'},\n '20684': {'description': 'STRAWBERRY DREAM CHILDS UMBRELLA'},\n '20719': {'description': 'WOODLAND CHARLOTTE BAG'},\n '20724': {'description': 'RED RETROSPOT CHARLOTTE BAG'},\n '20733': {'description': 'GOLD MINI TAPE MEASURE '},\n '20735': {'description': 'BLACK MINI TAPE MEASURE '},\n '20770': {'description': 'ABSTRACT CIRCLE JOURNAL '},\n '20835': {'description': 'FRENCH LATTICE CUSHION COVER '},\n '20839': {'description': 'FRENCH PAISLEY CUSHION COVER '},\n '20840': {'description': 'FRENCH FLORAL CUSHION COVER '},\n '20956': {'description': 'PORCELAIN T-LIGHT HOLDERS ASSORTED'},\n '20969': {'description': 'RED FLORAL FELTCRAFT SHOULDER BAG'},\n '20971': {'description': 'PINK BLUE FELT CRAFT TRINKET BOX'},\n '20975': {'description': '12 PENCILS SMALL TUBE RED RETROSPOT'},\n '20981': {'description': '12 PENCILS TALL TUBE WOODLAND'},\n ...}"
     },
     "execution_count": 52,
     "metadata": {},
     "output_type": "execute_result"
    }
   ],
   "source": [
    "for item, des in item2seq.items():\n",
    "    item2seq[item] = {\n",
    "        'description': des,\n",
    "    }\n",
    "\n",
    "item2seq"
   ],
   "metadata": {
    "collapsed": false,
    "ExecuteTime": {
     "end_time": "2023-09-14T08:28:51.135674500Z",
     "start_time": "2023-09-14T08:28:51.096635400Z"
    }
   },
   "id": "600677f65a046571"
  },
  {
   "cell_type": "code",
   "execution_count": 53,
   "outputs": [
    {
     "name": "stdout",
     "output_type": "stream",
     "text": [
      "Users: 20060, Items: 3927, Intersects: 525297\n"
     ]
    }
   ],
   "source": [
    "import os\n",
    "\n",
    "output_path = 'online_retail_ours'\n",
    "train_file = os.path.join(output_path, \"train.json\")\n",
    "dev_file = os.path.join(output_path, \"val.json\")\n",
    "test_file = os.path.join(output_path, \"test.json\")\n",
    "umap_file = os.path.join(output_path, \"umap.json\")\n",
    "smap_file = os.path.join(output_path, \"smap.json\")\n",
    "meta_file = os.path.join(output_path, \"meta_data.json\")\n",
    "\n",
    "print(f\"Users: {len(user_field.label2id)}, Items: {len(s_field.label2id)}, Intersects: {intersections}\")\n",
    "\n",
    "f_u = open(umap_file, \"w\", encoding=\"utf8\")\n",
    "json.dump(user_field.label2id, f_u, indent=1, ensure_ascii=False)\n",
    "f_u.close()\n",
    "\n",
    "f_s = open(smap_file, \"w\", encoding=\"utf8\")\n",
    "json.dump(s_field.label2id, f_s, indent=1, ensure_ascii=False)\n",
    "f_s.close()\n",
    "\n",
    "train_f = open(train_file, \"w\", encoding=\"utf8\")\n",
    "json.dump(train_dict, train_f, indent=1, ensure_ascii=False)\n",
    "train_f.close()\n",
    "\n",
    "dev_f = open(dev_file, \"w\", encoding=\"utf8\")\n",
    "json.dump(dev_dict, dev_f, indent=1, ensure_ascii=False)\n",
    "dev_f.close()\n",
    "\n",
    "test_f = open(test_file, \"w\", encoding=\"utf8\")\n",
    "json.dump(test_dict, test_f, indent=1, ensure_ascii=False)\n",
    "test_f.close()\n",
    "\n",
    "\n",
    "meta_f = open(meta_file, \"w\", encoding=\"utf8\")\n",
    "json.dump(item2seq, meta_f, indent=1, ensure_ascii=False)\n",
    "meta_f.close()"
   ],
   "metadata": {
    "collapsed": false,
    "ExecuteTime": {
     "end_time": "2023-09-14T08:28:58.892718100Z",
     "start_time": "2023-09-14T08:28:58.568286800Z"
    }
   },
   "id": "87947c6b2a9bb418"
  }
 ],
 "metadata": {
  "kernelspec": {
   "display_name": "Python 3",
   "language": "python",
   "name": "python3"
  },
  "language_info": {
   "codemirror_mode": {
    "name": "ipython",
    "version": 2
   },
   "file_extension": ".py",
   "mimetype": "text/x-python",
   "name": "python",
   "nbconvert_exporter": "python",
   "pygments_lexer": "ipython2",
   "version": "2.7.6"
  }
 },
 "nbformat": 4,
 "nbformat_minor": 5
}
